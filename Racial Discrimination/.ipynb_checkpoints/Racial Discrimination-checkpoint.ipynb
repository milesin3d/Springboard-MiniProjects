{
 "cells": [
  {
   "cell_type": "markdown",
   "metadata": {},
   "source": [
    "# Examining Racial Discrimination in the US Job Market\n",
    "\n",
    "### Background\n",
    "Racial discrimination continues to be pervasive in cultures throughout the world. Researchers examined the level of racial discrimination in the United States labor market by randomly assigning identical résumés to black-sounding or white-sounding names and observing the impact on requests for interviews from employers.\n",
    "\n",
    "### Data\n",
    "In the dataset provided, each row represents a resume. The 'race' column has two values, 'b' and 'w', indicating black-sounding and white-sounding. The column 'call' has two values, 1 and 0, indicating whether the resume received a call from employers or not.\n",
    "\n",
    "Note that the 'b' and 'w' values in race are assigned randomly to the resumes when presented to the employer."
   ]
  },
  {
   "cell_type": "markdown",
   "metadata": {},
   "source": [
    "### Exercises\n",
    "You will perform a statistical analysis to establish whether race has a significant impact on the rate of callbacks for resumes.\n",
    "\n",
    "Answer the following questions **in this notebook below and submit to your Github account**. \n",
    "\n",
    "   1. What test is appropriate for this problem? Does CLT apply?\n",
    "   2. What are the null and alternate hypotheses?\n",
    "   3. Compute margin of error, confidence interval, and p-value. Try using both the bootstrapping and the frequentist statistical approaches.\n",
    "   4. Write a story describing the statistical significance in the context or the original problem.\n",
    "   5. Does your analysis mean that race/name is the most important factor in callback success? Why or why not? If not, how would you amend your analysis?\n",
    "\n",
    "You can include written notes in notebook cells using Markdown: \n",
    "   - In the control panel at the top, choose Cell > Cell Type > Markdown\n",
    "   - Markdown syntax: http://nestacms.com/docs/creating-content/markdown-cheat-sheet\n",
    "\n",
    "#### Resources\n",
    "+ Experiment information and data source: http://www.povertyactionlab.org/evaluation/discrimination-job-market-united-states\n",
    "+ Scipy statistical methods: http://docs.scipy.org/doc/scipy/reference/stats.html \n",
    "+ Markdown syntax: http://nestacms.com/docs/creating-content/markdown-cheat-sheet\n",
    "+ Formulas for the Bernoulli distribution: https://en.wikipedia.org/wiki/Bernoulli_distribution"
   ]
  },
  {
   "cell_type": "markdown",
   "metadata": {},
   "source": [
    "# Libraries"
   ]
  },
  {
   "cell_type": "code",
   "execution_count": 292,
   "metadata": {},
   "outputs": [],
   "source": [
    "import pandas as pd\n",
    "import numpy as np\n",
    "from scipy import stats\n",
    "import matplotlib.pyplot as plt"
   ]
  },
  {
   "cell_type": "markdown",
   "metadata": {},
   "source": [
    "# View Data"
   ]
  },
  {
   "cell_type": "code",
   "execution_count": 293,
   "metadata": {},
   "outputs": [],
   "source": [
    "# read data file\n",
    "data = pd.io.stata.read_stata('data/us_job_market_discrimination.dta')"
   ]
  },
  {
   "cell_type": "code",
   "execution_count": 294,
   "metadata": {},
   "outputs": [
    {
     "data": {
      "text/html": [
       "<div>\n",
       "<style scoped>\n",
       "    .dataframe tbody tr th:only-of-type {\n",
       "        vertical-align: middle;\n",
       "    }\n",
       "\n",
       "    .dataframe tbody tr th {\n",
       "        vertical-align: top;\n",
       "    }\n",
       "\n",
       "    .dataframe thead th {\n",
       "        text-align: right;\n",
       "    }\n",
       "</style>\n",
       "<table border=\"1\" class=\"dataframe\">\n",
       "  <thead>\n",
       "    <tr style=\"text-align: right;\">\n",
       "      <th></th>\n",
       "      <th>id</th>\n",
       "      <th>ad</th>\n",
       "      <th>education</th>\n",
       "      <th>ofjobs</th>\n",
       "      <th>yearsexp</th>\n",
       "      <th>honors</th>\n",
       "      <th>volunteer</th>\n",
       "      <th>military</th>\n",
       "      <th>empholes</th>\n",
       "      <th>occupspecific</th>\n",
       "      <th>...</th>\n",
       "      <th>compreq</th>\n",
       "      <th>orgreq</th>\n",
       "      <th>manuf</th>\n",
       "      <th>transcom</th>\n",
       "      <th>bankreal</th>\n",
       "      <th>trade</th>\n",
       "      <th>busservice</th>\n",
       "      <th>othservice</th>\n",
       "      <th>missind</th>\n",
       "      <th>ownership</th>\n",
       "    </tr>\n",
       "  </thead>\n",
       "  <tbody>\n",
       "    <tr>\n",
       "      <th>0</th>\n",
       "      <td>b</td>\n",
       "      <td>1</td>\n",
       "      <td>4</td>\n",
       "      <td>2</td>\n",
       "      <td>6</td>\n",
       "      <td>0</td>\n",
       "      <td>0</td>\n",
       "      <td>0</td>\n",
       "      <td>1</td>\n",
       "      <td>17</td>\n",
       "      <td>...</td>\n",
       "      <td>1.0</td>\n",
       "      <td>0.0</td>\n",
       "      <td>1.0</td>\n",
       "      <td>0.0</td>\n",
       "      <td>0.0</td>\n",
       "      <td>0.0</td>\n",
       "      <td>0.0</td>\n",
       "      <td>0.0</td>\n",
       "      <td>0.0</td>\n",
       "      <td></td>\n",
       "    </tr>\n",
       "    <tr>\n",
       "      <th>1</th>\n",
       "      <td>b</td>\n",
       "      <td>1</td>\n",
       "      <td>3</td>\n",
       "      <td>3</td>\n",
       "      <td>6</td>\n",
       "      <td>0</td>\n",
       "      <td>1</td>\n",
       "      <td>1</td>\n",
       "      <td>0</td>\n",
       "      <td>316</td>\n",
       "      <td>...</td>\n",
       "      <td>1.0</td>\n",
       "      <td>0.0</td>\n",
       "      <td>1.0</td>\n",
       "      <td>0.0</td>\n",
       "      <td>0.0</td>\n",
       "      <td>0.0</td>\n",
       "      <td>0.0</td>\n",
       "      <td>0.0</td>\n",
       "      <td>0.0</td>\n",
       "      <td></td>\n",
       "    </tr>\n",
       "    <tr>\n",
       "      <th>2</th>\n",
       "      <td>b</td>\n",
       "      <td>1</td>\n",
       "      <td>4</td>\n",
       "      <td>1</td>\n",
       "      <td>6</td>\n",
       "      <td>0</td>\n",
       "      <td>0</td>\n",
       "      <td>0</td>\n",
       "      <td>0</td>\n",
       "      <td>19</td>\n",
       "      <td>...</td>\n",
       "      <td>1.0</td>\n",
       "      <td>0.0</td>\n",
       "      <td>1.0</td>\n",
       "      <td>0.0</td>\n",
       "      <td>0.0</td>\n",
       "      <td>0.0</td>\n",
       "      <td>0.0</td>\n",
       "      <td>0.0</td>\n",
       "      <td>0.0</td>\n",
       "      <td></td>\n",
       "    </tr>\n",
       "    <tr>\n",
       "      <th>3</th>\n",
       "      <td>b</td>\n",
       "      <td>1</td>\n",
       "      <td>3</td>\n",
       "      <td>4</td>\n",
       "      <td>6</td>\n",
       "      <td>0</td>\n",
       "      <td>1</td>\n",
       "      <td>0</td>\n",
       "      <td>1</td>\n",
       "      <td>313</td>\n",
       "      <td>...</td>\n",
       "      <td>1.0</td>\n",
       "      <td>0.0</td>\n",
       "      <td>1.0</td>\n",
       "      <td>0.0</td>\n",
       "      <td>0.0</td>\n",
       "      <td>0.0</td>\n",
       "      <td>0.0</td>\n",
       "      <td>0.0</td>\n",
       "      <td>0.0</td>\n",
       "      <td></td>\n",
       "    </tr>\n",
       "    <tr>\n",
       "      <th>4</th>\n",
       "      <td>b</td>\n",
       "      <td>1</td>\n",
       "      <td>3</td>\n",
       "      <td>3</td>\n",
       "      <td>22</td>\n",
       "      <td>0</td>\n",
       "      <td>0</td>\n",
       "      <td>0</td>\n",
       "      <td>0</td>\n",
       "      <td>313</td>\n",
       "      <td>...</td>\n",
       "      <td>1.0</td>\n",
       "      <td>1.0</td>\n",
       "      <td>0.0</td>\n",
       "      <td>0.0</td>\n",
       "      <td>0.0</td>\n",
       "      <td>0.0</td>\n",
       "      <td>0.0</td>\n",
       "      <td>1.0</td>\n",
       "      <td>0.0</td>\n",
       "      <td>Nonprofit</td>\n",
       "    </tr>\n",
       "  </tbody>\n",
       "</table>\n",
       "<p>5 rows × 65 columns</p>\n",
       "</div>"
      ],
      "text/plain": [
       "  id ad  education  ofjobs  yearsexp  honors  volunteer  military  empholes  \\\n",
       "0  b  1          4       2         6       0          0         0         1   \n",
       "1  b  1          3       3         6       0          1         1         0   \n",
       "2  b  1          4       1         6       0          0         0         0   \n",
       "3  b  1          3       4         6       0          1         0         1   \n",
       "4  b  1          3       3        22       0          0         0         0   \n",
       "\n",
       "   occupspecific    ...      compreq  orgreq  manuf  transcom  bankreal trade  \\\n",
       "0             17    ...          1.0     0.0    1.0       0.0       0.0   0.0   \n",
       "1            316    ...          1.0     0.0    1.0       0.0       0.0   0.0   \n",
       "2             19    ...          1.0     0.0    1.0       0.0       0.0   0.0   \n",
       "3            313    ...          1.0     0.0    1.0       0.0       0.0   0.0   \n",
       "4            313    ...          1.0     1.0    0.0       0.0       0.0   0.0   \n",
       "\n",
       "  busservice othservice  missind  ownership  \n",
       "0        0.0        0.0      0.0             \n",
       "1        0.0        0.0      0.0             \n",
       "2        0.0        0.0      0.0             \n",
       "3        0.0        0.0      0.0             \n",
       "4        0.0        1.0      0.0  Nonprofit  \n",
       "\n",
       "[5 rows x 65 columns]"
      ]
     },
     "execution_count": 294,
     "metadata": {},
     "output_type": "execute_result"
    }
   ],
   "source": [
    "data.head()"
   ]
  },
  {
   "cell_type": "code",
   "execution_count": 295,
   "metadata": {},
   "outputs": [
    {
     "data": {
      "text/plain": [
       "Index(['id', 'ad', 'education', 'ofjobs', 'yearsexp', 'honors', 'volunteer',\n",
       "       'military', 'empholes', 'occupspecific', 'occupbroad', 'workinschool',\n",
       "       'email', 'computerskills', 'specialskills', 'firstname', 'sex', 'race',\n",
       "       'h', 'l', 'call', 'city', 'kind', 'adid', 'fracblack', 'fracwhite',\n",
       "       'lmedhhinc', 'fracdropout', 'fraccolp', 'linc', 'col', 'expminreq',\n",
       "       'schoolreq', 'eoe', 'parent_sales', 'parent_emp', 'branch_sales',\n",
       "       'branch_emp', 'fed', 'fracblack_empzip', 'fracwhite_empzip',\n",
       "       'lmedhhinc_empzip', 'fracdropout_empzip', 'fraccolp_empzip',\n",
       "       'linc_empzip', 'manager', 'supervisor', 'secretary', 'offsupport',\n",
       "       'salesrep', 'retailsales', 'req', 'expreq', 'comreq', 'educreq',\n",
       "       'compreq', 'orgreq', 'manuf', 'transcom', 'bankreal', 'trade',\n",
       "       'busservice', 'othservice', 'missind', 'ownership'],\n",
       "      dtype='object')"
      ]
     },
     "execution_count": 295,
     "metadata": {},
     "output_type": "execute_result"
    }
   ],
   "source": [
    "data.columns"
   ]
  },
  {
   "cell_type": "code",
   "execution_count": 296,
   "metadata": {},
   "outputs": [
    {
     "data": {
      "text/html": [
       "<div>\n",
       "<style scoped>\n",
       "    .dataframe tbody tr th:only-of-type {\n",
       "        vertical-align: middle;\n",
       "    }\n",
       "\n",
       "    .dataframe tbody tr th {\n",
       "        vertical-align: top;\n",
       "    }\n",
       "\n",
       "    .dataframe thead th {\n",
       "        text-align: right;\n",
       "    }\n",
       "</style>\n",
       "<table border=\"1\" class=\"dataframe\">\n",
       "  <thead>\n",
       "    <tr style=\"text-align: right;\">\n",
       "      <th></th>\n",
       "      <th>race</th>\n",
       "      <th>call</th>\n",
       "    </tr>\n",
       "  </thead>\n",
       "  <tbody>\n",
       "    <tr>\n",
       "      <th>count</th>\n",
       "      <td>4870</td>\n",
       "      <td>4870.000000</td>\n",
       "    </tr>\n",
       "    <tr>\n",
       "      <th>unique</th>\n",
       "      <td>2</td>\n",
       "      <td>NaN</td>\n",
       "    </tr>\n",
       "    <tr>\n",
       "      <th>top</th>\n",
       "      <td>w</td>\n",
       "      <td>NaN</td>\n",
       "    </tr>\n",
       "    <tr>\n",
       "      <th>freq</th>\n",
       "      <td>2435</td>\n",
       "      <td>NaN</td>\n",
       "    </tr>\n",
       "    <tr>\n",
       "      <th>mean</th>\n",
       "      <td>NaN</td>\n",
       "      <td>0.080493</td>\n",
       "    </tr>\n",
       "    <tr>\n",
       "      <th>std</th>\n",
       "      <td>NaN</td>\n",
       "      <td>0.272079</td>\n",
       "    </tr>\n",
       "    <tr>\n",
       "      <th>min</th>\n",
       "      <td>NaN</td>\n",
       "      <td>0.000000</td>\n",
       "    </tr>\n",
       "    <tr>\n",
       "      <th>25%</th>\n",
       "      <td>NaN</td>\n",
       "      <td>0.000000</td>\n",
       "    </tr>\n",
       "    <tr>\n",
       "      <th>50%</th>\n",
       "      <td>NaN</td>\n",
       "      <td>0.000000</td>\n",
       "    </tr>\n",
       "    <tr>\n",
       "      <th>75%</th>\n",
       "      <td>NaN</td>\n",
       "      <td>0.000000</td>\n",
       "    </tr>\n",
       "    <tr>\n",
       "      <th>max</th>\n",
       "      <td>NaN</td>\n",
       "      <td>1.000000</td>\n",
       "    </tr>\n",
       "  </tbody>\n",
       "</table>\n",
       "</div>"
      ],
      "text/plain": [
       "        race         call\n",
       "count   4870  4870.000000\n",
       "unique     2          NaN\n",
       "top        w          NaN\n",
       "freq    2435          NaN\n",
       "mean     NaN     0.080493\n",
       "std      NaN     0.272079\n",
       "min      NaN     0.000000\n",
       "25%      NaN     0.000000\n",
       "50%      NaN     0.000000\n",
       "75%      NaN     0.000000\n",
       "max      NaN     1.000000"
      ]
     },
     "execution_count": 296,
     "metadata": {},
     "output_type": "execute_result"
    }
   ],
   "source": [
    "# columns to focus on\n",
    "\n",
    "df = data[['race','call']]\n",
    "df.describe(include='all')"
   ]
  },
  {
   "cell_type": "code",
   "execution_count": 297,
   "metadata": {},
   "outputs": [],
   "source": [
    "# filter the 2 columns per race\n",
    "\n",
    "w = df[df.race=='w']\n",
    "b = df[df.race=='b']"
   ]
  },
  {
   "cell_type": "code",
   "execution_count": 298,
   "metadata": {},
   "outputs": [
    {
     "name": "stdout",
     "output_type": "stream",
     "text": [
      "Race: [calls, applications, proportion]\n",
      "W: [235, 2435, 0.09650924024640657]\n",
      "B: [157, 2435, 0.06447638603696099]\n"
     ]
    }
   ],
   "source": [
    "# observed proportions\n",
    "\n",
    "# whites\n",
    "call_w = len(w[w.call==1])\n",
    "app_w = len(w)\n",
    "prop_w = call_w / app_w\n",
    "\n",
    "# blacks\n",
    "call_b = len(b[b.call==1])\n",
    "app_b = len(b)\n",
    "prop_b = call_b / app_b\n",
    "\n",
    "# list of stats\n",
    "stats_w = [call_w, app_w ,prop_w]\n",
    "stats_b = [call_b, app_b ,prop_b]\n",
    "\n",
    "print('Race: [calls, applications, proportion]')\n",
    "print('W:', stats_w)\n",
    "print('B:', stats_b)"
   ]
  },
  {
   "cell_type": "code",
   "execution_count": 299,
   "metadata": {},
   "outputs": [
    {
     "data": {
      "image/png": "[encoded data removed]",
      "text/plain": [
       "<Figure size 432x288 with 2 Axes>"
      ]
     },
     "metadata": {},
     "output_type": "display_data"
    }
   ],
   "source": [
    "# pie chart of of calls per race\n",
    "\n",
    "colors = ['blue', 'red']\n",
    "\n",
    "f, (ax_w, ax_b) = plt.subplots(1,2)\n",
    "\n",
    "# white\n",
    "ax_w.pie([call_w, app_w - call_w], \n",
    "         colors=colors,\n",
    "         startangle=90)\n",
    "ax_w.axis('equal')\n",
    "ax_w.set_title('White', pad='-15')\n",
    "ax_w.legend(['call ('+str(round(100*prop_w,1))+'%)', \n",
    "             'no call ('+str(round(100-100*prop_w,1))+'%)'], loc=8)\n",
    "\n",
    "# black\n",
    "ax_b.pie([call_b, app_b - call_b], \n",
    "         colors=colors,\n",
    "         startangle=90)\n",
    "ax_b.axis('equal')\n",
    "ax_b.set_title('Black', pad='-15')\n",
    "ax_b.legend(['call ('+str(round(100*prop_b,1))+'%)', \n",
    "             'no call ('+str(round(100-100*prop_b,1))+'%)'], loc=8)\n",
    "\n",
    "_ = f.suptitle('Callback Proportions')"
   ]
  },
  {
   "cell_type": "markdown",
   "metadata": {},
   "source": [
    "# 1) Appropriate Test? CLT Apply?\n",
    "What test is appropriate for this problem? Does the Central Limit Theorem (CLT) apply?"
   ]
  },
  {
   "cell_type": "markdown",
   "metadata": {},
   "source": [
    "## 1a) Appropriate Test?\n",
    "\n",
    "* The problem is whether or not calls are dependent upon race.\n",
    "* The appropriate test for this problem is the z-statistic two sample, proportions test."
   ]
  },
  {
   "cell_type": "markdown",
   "metadata": {},
   "source": [
    "## 1b) CLT Apply?\n",
    "There are three conditions in which the Central Limit Theorem can be applied.\n",
    "* Random\n",
    "* Normal\n",
    "* Independent"
   ]
  },
  {
   "cell_type": "markdown",
   "metadata": {},
   "source": [
    "### Random\n",
    "Random sample or randomized experiment\n",
    "* Each value in the \"race\" column are assigned randomly to the resumes when presented to the employer"
   ]
  },
  {
   "cell_type": "markdown",
   "metadata": {},
   "source": [
    "### Normal\n",
    "The sampling distribution needs to be approximately normal\n",
    "* expected successes: np >= 10\n",
    "* AND\n",
    "* expected failures: n(1−p) >= 10"
   ]
  },
  {
   "cell_type": "code",
   "execution_count": 300,
   "metadata": {},
   "outputs": [
    {
     "name": "stdout",
     "output_type": "stream",
     "text": [
      "[235, 2200, 157, 2278]\n",
      "The Sampling Distribution is approximately Normal.\n"
     ]
    }
   ],
   "source": [
    "# check for normality\n",
    "\n",
    "exp_suc_w = len(w[w.call==1])\n",
    "exp_fail_w = len(w[w.call==0])\n",
    "\n",
    "exp_suc_b = len(b[b.call==1])\n",
    "exp_fail_b = len(b[b.call==0])\n",
    "\n",
    "exp = [exp_suc_w, exp_fail_w, exp_suc_b, exp_fail_b]\n",
    "print(exp)\n",
    "\n",
    "if(all(x >= 10 for x in exp)):\n",
    "    print('The Sampling Distribution is approximately Normal.')\n",
    "else:\n",
    "    print('The Sampling Distribution is NOT approximately Normal.')"
   ]
  },
  {
   "cell_type": "markdown",
   "metadata": {},
   "source": [
    "### Independent\n",
    "Individual Observations need to be Independent\n",
    "* Sample with replacement\n",
    "* OR\n",
    "* Sample without replacement when (n ≤ 10% of N)"
   ]
  },
  {
   "cell_type": "code",
   "execution_count": 301,
   "metadata": {},
   "outputs": [],
   "source": [
    "# sample with replacement"
   ]
  },
  {
   "cell_type": "markdown",
   "metadata": {},
   "source": [
    "It was not stated that the data was sampled with replacement."
   ]
  },
  {
   "cell_type": "code",
   "execution_count": 302,
   "metadata": {},
   "outputs": [
    {
     "name": "stdout",
     "output_type": "stream",
     "text": [
      "n:  4870\n",
      "N:  113000000\n",
      "n is roughly  0.0043 % of N.\n",
      "It can be assumed that the Individual Observations are Independent.\n"
     ]
    }
   ],
   "source": [
    "# sample without replacement\n",
    "\n",
    "# number of resumes in data\n",
    "n = df.shape[0]\n",
    "\n",
    "# approximately the number of workers in the US in 2000 (113M)\n",
    "N = 113000000\n",
    "\n",
    "print('n: ', n)\n",
    "print('N: ', N)\n",
    "print('n is roughly ', round(100*n/N,4), '% of N.')\n",
    "\n",
    "if n <= 0.1 * N:\n",
    "    print('It can be assumed that the Individual Observations are Independent.')\n",
    "else:\n",
    "    print('It can NOT be assumed that the Individual Observations are Independent.')"
   ]
  },
  {
   "cell_type": "markdown",
   "metadata": {},
   "source": [
    "## Answer #1\n",
    "The appropriate test is the z-statistic two sample, proportions test.\n",
    "\n",
    "The Central Limit Theorom (CLT) can be used because the data meets all three conditions\n",
    "* Random\n",
    "* Normal\n",
    "* Independent"
   ]
  },
  {
   "cell_type": "markdown",
   "metadata": {
    "collapsed": true
   },
   "source": [
    "# 2) Null and Alternative Hypothesis?"
   ]
  },
  {
   "cell_type": "markdown",
   "metadata": {},
   "source": [
    "## Null Hypothesis (H0)\n",
    "Race has a NO Significant Impact on the rate of Callbacks for resumes\n",
    "* The proportion of calls vs applicants is the same for both whites and blacks\n",
    "* pro_w = pro_b"
   ]
  },
  {
   "cell_type": "markdown",
   "metadata": {
    "collapsed": true
   },
   "source": [
    "## Alternative Hypothesis (Ha)\n",
    "Race has a Significant Impact on the rate of Callbacks for resumes\n",
    "* The proportion of calls vs applicants is NOT the same for both whites and blacks\n",
    "* pro_w $\\neq$ pro_b"
   ]
  },
  {
   "cell_type": "markdown",
   "metadata": {},
   "source": [
    "## Hypothesis Testing\n",
    "* Test Statistic = Mean\n",
    "* Significance Level = 0.05\n",
    "* Confidence Level = 95%"
   ]
  },
  {
   "cell_type": "code",
   "execution_count": 303,
   "metadata": {},
   "outputs": [],
   "source": [
    "alpha = 0.05\n",
    "sim_size = 10000"
   ]
  },
  {
   "cell_type": "markdown",
   "metadata": {},
   "source": [
    "# 3) Calculate Statistics about the Data"
   ]
  },
  {
   "cell_type": "markdown",
   "metadata": {},
   "source": [
    "Statistics\n",
    "* Margin of Error (moe)\n",
    "* Confidence Interval (conf_int)\n",
    "* p-value (p-value)"
   ]
  },
  {
   "cell_type": "markdown",
   "metadata": {},
   "source": [
    "Approaches\n",
    "* Bootstrapping\n",
    "* Frequentist Statistical"
   ]
  },
  {
   "cell_type": "markdown",
   "metadata": {},
   "source": [
    "## z-statistic"
   ]
  },
  {
   "cell_type": "code",
   "execution_count": 304,
   "metadata": {},
   "outputs": [
    {
     "name": "stdout",
     "output_type": "stream",
     "text": [
      "Standard Deviation:  0.007796894036170457\n"
     ]
    }
   ],
   "source": [
    "# calculate the standard deviation\n",
    "\n",
    "prop_diff = prop_w - prop_b\n",
    "\n",
    "# assuming the Null Hypothesis is True (pro_w = pro_b)\n",
    "\n",
    "# combined proportion = (success_w + success_b) / (attempts_w + attempts_b)\n",
    "pro_c = (call_w + call_b) / (app_w + app_b)\n",
    "\n",
    "# variance = \n",
    "#    [(combined proportion)(1-combined proportion) / attempts_w] + \n",
    "#    [(combined proportion)(1-combined proportion) / attempts_b] \n",
    "var_c = (pro_c)*(1-pro_c)/(app_w) + (pro_c)*(1-pro_c)/(app_b)\n",
    "\n",
    "# standard deviation = the square root of the variance\n",
    "std_c = np.sqrt(var_c)\n",
    "\n",
    "print('Standard Deviation: ', std_c)"
   ]
  },
  {
   "cell_type": "code",
   "execution_count": 305,
   "metadata": {},
   "outputs": [
    {
     "name": "stdout",
     "output_type": "stream",
     "text": [
      "z-statistic:  4.108412152434346\n"
     ]
    }
   ],
   "source": [
    "# z-statistic\n",
    "\n",
    "# z-statistic = (proportion white - proportion black) / (standard deviation)\n",
    "z_stat = (prop_w - prop_b) / (std_c)\n",
    "print('z-statistic: ', z_stat)"
   ]
  },
  {
   "cell_type": "code",
   "execution_count": 306,
   "metadata": {},
   "outputs": [
    {
     "name": "stdout",
     "output_type": "stream",
     "text": [
      "The p-value ( 3.983886837577444e-05 ) is less than alpha ( 0.05 )\n",
      "Reject the Null Hypothesis (H0).\n",
      "There is a Significant Difference between white and black applicants.\n"
     ]
    }
   ],
   "source": [
    "# p-value\n",
    "\n",
    "# p-value = the area under the curve, two tailed\n",
    "p_value = (1-stats.norm.cdf(z_stat)) * 2\n",
    "\n",
    "if p_value > alpha:\n",
    "    print('The p-value (', p_value, ') is greater than alpha (', alpha, ').')\n",
    "    print('Failed to Reject the Null Hypothesis (H0).')\n",
    "    print('There is NO Significant Difference between white and black applicants.')\n",
    "else:\n",
    "    print('The p-value (', p_value, ') is less than alpha (', alpha, ')')\n",
    "    print('Reject the Null Hypothesis (H0).')\n",
    "    print('There is a Significant Difference between white and black applicants.')"
   ]
  },
  {
   "cell_type": "markdown",
   "metadata": {},
   "source": [
    "## z-critical, Margin of Error, and Confidence Interval"
   ]
  },
  {
   "cell_type": "code",
   "execution_count": 307,
   "metadata": {},
   "outputs": [
    {
     "name": "stdout",
     "output_type": "stream",
     "text": [
      "z-critical:  1.959963984540054\n"
     ]
    }
   ],
   "source": [
    "# z-critical\n",
    "\n",
    "q = 1 - (alpha/2)\n",
    "z_crit = stats.norm.ppf(q)\n",
    "print('z-critical: ', z_crit)"
   ]
  },
  {
   "cell_type": "code",
   "execution_count": 308,
   "metadata": {},
   "outputs": [
    {
     "name": "stdout",
     "output_type": "stream",
     "text": [
      "Margin of Error:  0.015281631502169232\n"
     ]
    }
   ],
   "source": [
    "# margin of error\n",
    "\n",
    "moe = z_crit * std_c\n",
    "print('Margin of Error: ', moe)"
   ]
  },
  {
   "cell_type": "code",
   "execution_count": 309,
   "metadata": {},
   "outputs": [
    {
     "name": "stdout",
     "output_type": "stream",
     "text": [
      "Confidence Interval:  [0.01675122270727635, 0.04731448571161482]\n"
     ]
    }
   ],
   "source": [
    "# confidence interval\n",
    "\n",
    "conf_int = [prop_diff - moe, prop_diff + moe]\n",
    "print('Confidence Interval: ', conf_int)"
   ]
  },
  {
   "cell_type": "markdown",
   "metadata": {},
   "source": [
    "## Bootstrapping\n",
    "Resample the data and perform the statistical inference"
   ]
  },
  {
   "cell_type": "code",
   "execution_count": 310,
   "metadata": {},
   "outputs": [],
   "source": [
    "# define the function for the proportion difference\n",
    "\n",
    "def bs_prop_diff(data1, data2):\n",
    "    prop1 = np.sum(data1.call == 1) / len(data1)\n",
    "    prop2 = np.sum(data2.call == 1) / len(data2)\n",
    "    return abs(prop1 - prop2)"
   ]
  },
  {
   "cell_type": "code",
   "execution_count": 311,
   "metadata": {},
   "outputs": [],
   "source": [
    "# define the function for the bs samples\n",
    "\n",
    "def bs_draw_replicates(data1, data2, func, size=1):\n",
    "    rep_prop_diffs = np.empty(size)\n",
    "    \n",
    "    for i in range(size):\n",
    "        sample_combined = pd.concat([data1, data2])\n",
    "        # shuffle the combined df with replacement\n",
    "        sample_shuff = sample_combined.sample(n=len(data1)+len(data2), replace=True)\n",
    "        \n",
    "        # split the shuffled data into 2 separate dataframes\n",
    "        s1 = sample_shuff.iloc[:len(data1),:]\n",
    "        s2 = sample_shuff.iloc[len(data1):,:]\n",
    "        \n",
    "        rep_prop_diffs[i] = func(s1, s2)\n",
    "    return rep_prop_diffs"
   ]
  },
  {
   "cell_type": "code",
   "execution_count": 312,
   "metadata": {},
   "outputs": [
    {
     "name": "stdout",
     "output_type": "stream",
     "text": [
      "[0.00123203 0.0073922  0.0036961  0.01026694 0.00492813]\n"
     ]
    }
   ],
   "source": [
    "# generate the sample diffs\n",
    "\n",
    "sample_diffs = bs_draw_replicates(w, b, bs_prop_diff, size=sim_size)\n",
    "print(sample_diffs[:5])"
   ]
  },
  {
   "cell_type": "code",
   "execution_count": 313,
   "metadata": {},
   "outputs": [
    {
     "name": "stdout",
     "output_type": "stream",
     "text": [
      "The p-value ( 0.0002 ) is less than alpha ( 0.05 )\n",
      "Reject the Null Hypothesis (H0).\n",
      "There is a Significant Difference between white and black applicants.\n"
     ]
    }
   ],
   "source": [
    "# p-value\n",
    "\n",
    "p_value = np.sum(sample_diffs >= prop_diff) / len(sample_diffs)\n",
    "if p_value > alpha:\n",
    "    print('The p-value (', p_value, ') is greater than alpha (', alpha, ').')\n",
    "    print('Failed to Reject the Null Hypothesis (H0).')\n",
    "    print('There is NO Significant Difference between white and black applicants.')\n",
    "else:\n",
    "    print('The p-value (', p_value, ') is less than alpha (', alpha, ')')\n",
    "    print('Reject the Null Hypothesis (H0).')\n",
    "    print('There is a Significant Difference between white and black applicants.')"
   ]
  },
  {
   "cell_type": "markdown",
   "metadata": {},
   "source": [
    "## Answer #3\n",
    "There is a Significant Difference between white and black applicants.\n",
    "* The p-value is less than alpha\n",
    "* The Confidence Interval is entirely positive. Therefore, with a 95% confidence, the mean difference will fall within that range\n",
    "* With Bootstrapping, the p-value is less than alpha"
   ]
  },
  {
   "cell_type": "markdown",
   "metadata": {},
   "source": [
    "# 4) Story Telling\n",
    "Write a story describing the statistical significance in the context or the original problem."
   ]
  },
  {
   "cell_type": "markdown",
   "metadata": {},
   "source": [
    "To recap, identical resumes were set in as applications for employment; the only difference being black-sounding and white-sounding names. According to this dataset (race vs. call), there is a significant difference between the proportions of callbacks for white vs. blacks. The most convincing statistic is that when using a z-statistic and a condifence level of 95%, the confidence interval is from 1.7%-4.7%, in favor of whites. These numbers represent the difference in percentage points between white and black sounding names."
   ]
  },
  {
   "cell_type": "markdown",
   "metadata": {},
   "source": [
    "# 5) Most Important Factor is Race?\n",
    "* Does this analysis mean that race/name is the most important factor in callback success?\n",
    "* Why or why not? \n",
    "* If not, how would you amend your analysis?"
   ]
  },
  {
   "cell_type": "markdown",
   "metadata": {},
   "source": [
    "No, this analysis does NOT mean that the race/name is the MOST IMPORTANT factor in callback success. It means that it is ONE of the factors that plays a role in the application process. This analysis only entails the two columns of data, race and callbacks. Other columns could be analyzed in a similar fashion, and they may or may not play a bigger role in the outcome of the process and the outcome of a callback."
   ]
  }
 ],
 "metadata": {
  "kernelspec": {
   "display_name": "Python 3",
   "language": "python",
   "name": "python3"
  },
  "language_info": {
   "codemirror_mode": {
    "name": "ipython",
    "version": 3
   },
   "file_extension": ".py",
   "mimetype": "text/x-python",
   "name": "python",
   "nbconvert_exporter": "python",
   "pygments_lexer": "ipython3",
   "version": "3.6.5"
  }
 },
 "nbformat": 4,
 "nbformat_minor": 1
}
