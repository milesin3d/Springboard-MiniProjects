{
 "cells": [
  {
   "cell_type": "markdown",
   "metadata": {},
   "source": [
    "# What is the True Normal Human Body Temperature? \n",
    "\n",
    "Miles Craig\n",
    "\n",
    "#### Background\n",
    "\n",
    "The mean normal body temperature was held to be 37$^{\\circ}$C or 98.6$^{\\circ}$F for more than 120 years since it was first conceptualized and reported by Carl Wunderlich in a famous 1868 book. But, is this value statistically correct?"
   ]
  },
  {
   "cell_type": "markdown",
   "metadata": {},
   "source": [
    "<h3>Exercises</h3>\n",
    "\n",
    "<p>In this exercise, you will analyze a dataset of human body temperatures and employ the concepts of hypothesis testing, confidence intervals, and statistical significance.</p>\n",
    "\n",
    "<p>Answer the following questions <b>in this notebook below and submit to your Github account</b>.</p> \n",
    "\n",
    "<ol>\n",
    "<li>  Is the distribution of body temperatures normal? \n",
    "    <ul>\n",
    "    <li> Although this is not a requirement for the Central Limit Theorem to hold (read the introduction on Wikipedia's page about the CLT carefully: https://en.wikipedia.org/wiki/Central_limit_theorem), it gives us some peace of mind that the population may also be normally distributed if we assume that this sample is representative of the population.\n",
    "    <li> Think about the way you're going to check for the normality of the distribution. Graphical methods are usually used first, but there are also other ways: https://en.wikipedia.org/wiki/Normality_test\n",
    "    </ul>\n",
    "<li>  Is the sample size large? Are the observations independent?\n",
    "    <ul>\n",
    "    <li> Remember that this is a condition for the Central Limit Theorem, and hence the statistical tests we are using, to apply.\n",
    "    </ul>\n",
    "<li>  Is the true population mean really 98.6 degrees F?\n",
    "    <ul>\n",
    "    <li> First, try a bootstrap hypothesis test.\n",
    "    <li> Now, let's try frequentist statistical testing. Would you use a one-sample or two-sample test? Why?\n",
    "    <li> In this situation, is it appropriate to use the $t$ or $z$ statistic? \n",
    "    <li> Now try using the other test. How is the result different? Why?\n",
    "    </ul>\n",
    "<li>  Draw a small sample of size 10 from the data and repeat both frequentist tests. \n",
    "    <ul>\n",
    "    <li> Which one is the correct one to use? \n",
    "    <li> What do you notice? What does this tell you about the difference in application of the $t$ and $z$ statistic?\n",
    "    </ul>\n",
    "<li>  At what temperature should we consider someone's temperature to be \"abnormal\"?\n",
    "    <ul>\n",
    "    <li> As in the previous example, try calculating everything using the bootstrap approach, as well as the frequentist approach.\n",
    "    <li> Start by computing the margin of error and confidence interval. When calculating the confidence interval, keep in mind that you should use the appropriate formula for one draw, and not N draws.\n",
    "    </ul>\n",
    "<li>  Is there a significant difference between males and females in normal temperature?\n",
    "    <ul>\n",
    "    <li> What testing approach did you use and why?\n",
    "    <li> Write a story with your conclusion in the context of the original problem.\n",
    "    </ul>\n",
    "</ol>\n",
    "\n",
    "You can include written notes in notebook cells using Markdown: \n",
    "   - In the control panel at the top, choose Cell > Cell Type > Markdown\n",
    "   - Markdown syntax: http://nestacms.com/docs/creating-content/markdown-cheat-sheet\n",
    "\n",
    "#### Resources\n",
    "\n",
    "+ Information and data sources: http://www.amstat.org/publications/jse/datasets/normtemp.txt, http://www.amstat.org/publications/jse/jse_data_archive.htm\n",
    "+ Markdown syntax: http://nestacms.com/docs/creating-content/markdown-cheat-sheet\n",
    "\n",
    "****"
   ]
  },
  {
   "cell_type": "markdown",
   "metadata": {},
   "source": [
    "# Libraries"
   ]
  },
  {
   "cell_type": "code",
   "execution_count": 732,
   "metadata": {},
   "outputs": [],
   "source": [
    "import numpy as np\n",
    "import pandas as pd\n",
    "import matplotlib.pyplot as plt\n",
    "import seaborn as sns\n",
    "import pylab\n",
    "from scipy import stats"
   ]
  },
  {
   "cell_type": "markdown",
   "metadata": {},
   "source": [
    "# View the Data"
   ]
  },
  {
   "cell_type": "code",
   "execution_count": 733,
   "metadata": {},
   "outputs": [],
   "source": [
    "# import raw data\n",
    "df = pd.read_csv('data/human_body_temperature.csv')\n",
    "\n",
    "# set random seed value\n",
    "rand_seed = 42"
   ]
  },
  {
   "cell_type": "code",
   "execution_count": 734,
   "metadata": {},
   "outputs": [
    {
     "data": {
      "text/html": [
       "<div>\n",
       "<style scoped>\n",
       "    .dataframe tbody tr th:only-of-type {\n",
       "        vertical-align: middle;\n",
       "    }\n",
       "\n",
       "    .dataframe tbody tr th {\n",
       "        vertical-align: top;\n",
       "    }\n",
       "\n",
       "    .dataframe thead th {\n",
       "        text-align: right;\n",
       "    }\n",
       "</style>\n",
       "<table border=\"1\" class=\"dataframe\">\n",
       "  <thead>\n",
       "    <tr style=\"text-align: right;\">\n",
       "      <th></th>\n",
       "      <th>temperature</th>\n",
       "      <th>gender</th>\n",
       "      <th>heart_rate</th>\n",
       "    </tr>\n",
       "  </thead>\n",
       "  <tbody>\n",
       "    <tr>\n",
       "      <th>0</th>\n",
       "      <td>99.3</td>\n",
       "      <td>F</td>\n",
       "      <td>68.0</td>\n",
       "    </tr>\n",
       "    <tr>\n",
       "      <th>1</th>\n",
       "      <td>98.4</td>\n",
       "      <td>F</td>\n",
       "      <td>81.0</td>\n",
       "    </tr>\n",
       "    <tr>\n",
       "      <th>2</th>\n",
       "      <td>97.8</td>\n",
       "      <td>M</td>\n",
       "      <td>73.0</td>\n",
       "    </tr>\n",
       "    <tr>\n",
       "      <th>3</th>\n",
       "      <td>99.2</td>\n",
       "      <td>F</td>\n",
       "      <td>66.0</td>\n",
       "    </tr>\n",
       "    <tr>\n",
       "      <th>4</th>\n",
       "      <td>98.0</td>\n",
       "      <td>F</td>\n",
       "      <td>73.0</td>\n",
       "    </tr>\n",
       "  </tbody>\n",
       "</table>\n",
       "</div>"
      ],
      "text/plain": [
       "   temperature gender  heart_rate\n",
       "0         99.3      F        68.0\n",
       "1         98.4      F        81.0\n",
       "2         97.8      M        73.0\n",
       "3         99.2      F        66.0\n",
       "4         98.0      F        73.0"
      ]
     },
     "execution_count": 734,
     "metadata": {},
     "output_type": "execute_result"
    }
   ],
   "source": [
    "# view raw df\n",
    "df.head()"
   ]
  },
  {
   "cell_type": "code",
   "execution_count": 735,
   "metadata": {},
   "outputs": [
    {
     "name": "stdout",
     "output_type": "stream",
     "text": [
      "<class 'pandas.core.frame.DataFrame'>\n",
      "RangeIndex: 130 entries, 0 to 129\n",
      "Data columns (total 3 columns):\n",
      "temperature    130 non-null float64\n",
      "gender         130 non-null object\n",
      "heart_rate     130 non-null float64\n",
      "dtypes: float64(2), object(1)\n",
      "memory usage: 3.1+ KB\n"
     ]
    },
    {
     "data": {
      "text/html": [
       "<div>\n",
       "<style scoped>\n",
       "    .dataframe tbody tr th:only-of-type {\n",
       "        vertical-align: middle;\n",
       "    }\n",
       "\n",
       "    .dataframe tbody tr th {\n",
       "        vertical-align: top;\n",
       "    }\n",
       "\n",
       "    .dataframe thead th {\n",
       "        text-align: right;\n",
       "    }\n",
       "</style>\n",
       "<table border=\"1\" class=\"dataframe\">\n",
       "  <thead>\n",
       "    <tr style=\"text-align: right;\">\n",
       "      <th></th>\n",
       "      <th>temperature</th>\n",
       "      <th>heart_rate</th>\n",
       "    </tr>\n",
       "  </thead>\n",
       "  <tbody>\n",
       "    <tr>\n",
       "      <th>count</th>\n",
       "      <td>130.000000</td>\n",
       "      <td>130.000000</td>\n",
       "    </tr>\n",
       "    <tr>\n",
       "      <th>mean</th>\n",
       "      <td>98.249231</td>\n",
       "      <td>73.761538</td>\n",
       "    </tr>\n",
       "    <tr>\n",
       "      <th>std</th>\n",
       "      <td>0.733183</td>\n",
       "      <td>7.062077</td>\n",
       "    </tr>\n",
       "    <tr>\n",
       "      <th>min</th>\n",
       "      <td>96.300000</td>\n",
       "      <td>57.000000</td>\n",
       "    </tr>\n",
       "    <tr>\n",
       "      <th>25%</th>\n",
       "      <td>97.800000</td>\n",
       "      <td>69.000000</td>\n",
       "    </tr>\n",
       "    <tr>\n",
       "      <th>50%</th>\n",
       "      <td>98.300000</td>\n",
       "      <td>74.000000</td>\n",
       "    </tr>\n",
       "    <tr>\n",
       "      <th>75%</th>\n",
       "      <td>98.700000</td>\n",
       "      <td>79.000000</td>\n",
       "    </tr>\n",
       "    <tr>\n",
       "      <th>max</th>\n",
       "      <td>100.800000</td>\n",
       "      <td>89.000000</td>\n",
       "    </tr>\n",
       "  </tbody>\n",
       "</table>\n",
       "</div>"
      ],
      "text/plain": [
       "       temperature  heart_rate\n",
       "count   130.000000  130.000000\n",
       "mean     98.249231   73.761538\n",
       "std       0.733183    7.062077\n",
       "min      96.300000   57.000000\n",
       "25%      97.800000   69.000000\n",
       "50%      98.300000   74.000000\n",
       "75%      98.700000   79.000000\n",
       "max     100.800000   89.000000"
      ]
     },
     "execution_count": 735,
     "metadata": {},
     "output_type": "execute_result"
    }
   ],
   "source": [
    "# view general info about df\n",
    "df.info()\n",
    "df.describe()"
   ]
  },
  {
   "cell_type": "code",
   "execution_count": 736,
   "metadata": {},
   "outputs": [],
   "source": [
    "# set gener column to type\n",
    "df['gender'] = df['gender'].astype('category')"
   ]
  },
  {
   "cell_type": "markdown",
   "metadata": {},
   "source": [
    "## Initial Review of the Data\n",
    "\n",
    "Columns (x3)\n",
    "1. temperature - float - Fahrenheit\n",
    "2. gender - category - M/F\n",
    "3. heart_rate - float - BPM\n",
    "\n",
    "Rows (x130)\n",
    "* human\n",
    "\n",
    "Sample Size = 130"
   ]
  },
  {
   "cell_type": "markdown",
   "metadata": {
    "collapsed": true
   },
   "source": [
    "# 1) Body Temperatures = A Normal Distribution?\n",
    "Is the distribution of body temperatures normal?\n",
    "* Although this is not a requirement for the Central Limit Theorem to hold (read the introduction on Wikipedia’s page about the CLT) carefully, it gives us some peace of mind that the population may also be normally distributed if we assume that this sample is representative of the population.\n",
    "* Think about the way you're going to check for the normality of the distribution. Graphical methods are usually used first, but there are also other ways."
   ]
  },
  {
   "cell_type": "markdown",
   "metadata": {},
   "source": [
    "## 1a) Graphical Method\n",
    "\n",
    "* ECDF\n",
    "* Histogram\n",
    "* Q-Q Plot"
   ]
  },
  {
   "cell_type": "code",
   "execution_count": 737,
   "metadata": {},
   "outputs": [
    {
     "name": "stdout",
     "output_type": "stream",
     "text": [
      "Temperature Mean:  98.25\n",
      "Temperature Standard Deviation:  0.7304\n"
     ]
    }
   ],
   "source": [
    "# emperical mean and standard deviation\n",
    "\n",
    "temp_mean_obs = np.mean(df.temperature)\n",
    "temp_std_obs = np.std(df.temperature)\n",
    "\n",
    "print('Temperature Mean: ', round(temp_mean_obs,2))\n",
    "print('Temperature Standard Deviation: ', round(temp_std_obs,4))"
   ]
  },
  {
   "cell_type": "code",
   "execution_count": 738,
   "metadata": {},
   "outputs": [],
   "source": [
    "# sample a normal distribution\n",
    "temp_samp = np.random.normal(temp_mean_obs, temp_std_obs, size = 10000)"
   ]
  },
  {
   "cell_type": "code",
   "execution_count": 739,
   "metadata": {},
   "outputs": [],
   "source": [
    "# ecdf function\n",
    "\n",
    "def cdf(data):\n",
    "    '''compute the ECDF for a 1D array of data'''\n",
    "    # length of array\n",
    "    n = len(data)\n",
    "    # x-axis data\n",
    "    x = np.sort(data)\n",
    "    # y-axis data\n",
    "    y = np.arange(1, n+1) / n\n",
    "    return x, y"
   ]
  },
  {
   "cell_type": "code",
   "execution_count": 740,
   "metadata": {},
   "outputs": [
    {
     "data": {
      "image/png": "[encoded data removed]",
      "text/plain": [
       "<Figure size 432x288 with 1 Axes>"
      ]
     },
     "metadata": {},
     "output_type": "display_data"
    }
   ],
   "source": [
    "# ecdf plot\n",
    "\n",
    "x , y = cdf(df.temperature)\n",
    "x_norm , y_norm = cdf(temp_samp)\n",
    "\n",
    "plt.plot(x, y,\n",
    "         marker='.', \n",
    "         linestyle='none', \n",
    "         color='blue')\n",
    "\n",
    "plt.plot(x_norm, y_norm, \n",
    "         color='black')\n",
    "\n",
    "_ = plt.xlim(96, 101)\n",
    "_ = plt.ylim(0, 1.05)\n",
    "_ = plt.xlabel('Temperature ($^\\circ$F)')\n",
    "_ = plt.ylabel('CDF')\n",
    "_ = plt.legend(['Temperature Data','Normal Distribution'], loc=4)\n",
    "_ = plt.title('CDF of Temperature')"
   ]
  },
  {
   "cell_type": "code",
   "execution_count": 741,
   "metadata": {},
   "outputs": [
    {
     "name": "stderr",
     "output_type": "stream",
     "text": [
      "C:\\Users\\Miles\\Anaconda3\\lib\\site-packages\\matplotlib\\axes\\_axes.py:6462: UserWarning: The 'normed' kwarg is deprecated, and has been replaced by the 'density' kwarg.\n",
      "  warnings.warn(\"The 'normed' kwarg is deprecated, and has been \"\n"
     ]
    },
    {
     "data": {
      "image/png": "[encoded data removed]",
      "text/plain": [
       "<Figure size 432x288 with 2 Axes>"
      ]
     },
     "metadata": {},
     "output_type": "display_data"
    }
   ],
   "source": [
    "# histogram & box plot\n",
    "\n",
    "temp_bins = np.arange(96, 102, 0.5)\n",
    "\n",
    "sns.set()\n",
    "\n",
    "f, (ax1, ax2) = plt.subplots(2,1, sharex=True, gridspec_kw={\"height_ratios\": (.75, .25)})\n",
    "\n",
    "ax1.hist(df.temperature, \n",
    "         bins=temp_bins, \n",
    "         normed=False, \n",
    "         label='Temperature Data', \n",
    "         align='mid')\n",
    "\n",
    "sns.boxplot(df.temperature, \n",
    "            ax=ax2)\n",
    "\n",
    "_ = plt.xlim(96, 101)\n",
    "_ = ax2.set(xlabel='Temperature ($^\\circ$F)')\n",
    "_ = ax1.set(ylabel='# of Samples')\n",
    "_ = f.suptitle('Histogram & Boxplot of Temperature')"
   ]
  },
  {
   "cell_type": "code",
   "execution_count": 742,
   "metadata": {},
   "outputs": [
    {
     "data": {
      "image/png": "[encoded data removed]",
      "text/plain": [
       "<Figure size 432x288 with 1 Axes>"
      ]
     },
     "metadata": {},
     "output_type": "display_data"
    }
   ],
   "source": [
    "## q-q plot\n",
    "\n",
    "stats.probplot(df.temperature, \n",
    "               dist=\"norm\", \n",
    "               plot=pylab)\n",
    "_ = pylab.title(\"Normal Q-Q Plot\")\n",
    "_ = pylab.xlabel(\"Theoretical Quantiles\")\n",
    "_ = pylab.ylabel(\"Sample Quantiles\")"
   ]
  },
  {
   "cell_type": "markdown",
   "metadata": {},
   "source": [
    "## 1b) Normality Test\n",
    "\n",
    "Determine if a data set is well-modeled by a normal distribution\n",
    "\n",
    "* Null Hypothes (H0) = The Temperature Data is sampled from a population that has a Normal Distribution\n",
    "* Test Statistic = Distribution\n",
    "* Significance Level = 0.05\n",
    "* Confidence Level = 95%"
   ]
  },
  {
   "cell_type": "code",
   "execution_count": 743,
   "metadata": {},
   "outputs": [
    {
     "name": "stdout",
     "output_type": "stream",
     "text": [
      "Test Statistic:  0.9866\n",
      "p-value:  0.2332\n",
      "\n",
      "The p-value ( 0.2331680953502655 ) is greater than alpha ( 0.05 )\n",
      "Failed to Reject the Null Hypothesis (H0).\n",
      "The Temperature Data looks Gaussian.\n",
      "It is Normally Distributed.\n"
     ]
    }
   ],
   "source": [
    "# Shapiro-Wilk Test\n",
    "# The null-hypothesis of this test is that the population is normally distributed. \n",
    "# If the p-value is greater than the chosen alpha level, \n",
    "# then the null hypothesis cannot be rejected,\n",
    "# and therefore the data came from a normally distributed population.\n",
    "\n",
    "# significance level\n",
    "alpha = 0.05\n",
    "\n",
    "test_statistic, p_value = stats.shapiro(df.temperature)\n",
    "\n",
    "print('Test Statistic: ', round(test_statistic,4))\n",
    "print('p-value: ', round(p_value,4))\n",
    "print()\n",
    "\n",
    "if p_value > alpha:\n",
    "    print('The p-value (', p_value, ') is greater than alpha (', alpha, ')')\n",
    "    print('Failed to Reject the Null Hypothesis (H0).')\n",
    "    print('The Temperature Data looks Gaussian.')\n",
    "    print('It is Normally Distributed.')\n",
    "else:\n",
    "    print('The p-value (', p_value, ') is less than alpha (', alpha, ')')\n",
    "    print('Reject the Null Hypothesis (H0).')\n",
    "    print('The Temperature Data does not look Gaussian.')\n",
    "    print('It is NOT Normally Distributed.')"
   ]
  },
  {
   "cell_type": "markdown",
   "metadata": {},
   "source": [
    "## Answer #1\n",
    "The Body Temperature Data is Normally Distributed.\n",
    "* Graphical Method\n",
    "* Normality Test"
   ]
  },
  {
   "cell_type": "markdown",
   "metadata": {},
   "source": [
    "# 2) Sample Size = Large? Observations = Independent?\n",
    "Is the sample size large? Are the observations independent?\n",
    "* Remember that this is a condition for the Central Limit Theorem, and hence the statistical tests we are using to apply."
   ]
  },
  {
   "cell_type": "code",
   "execution_count": 744,
   "metadata": {},
   "outputs": [
    {
     "name": "stdout",
     "output_type": "stream",
     "text": [
      "Sample Size:  130\n",
      "Population Size:  1200000000\n"
     ]
    }
   ],
   "source": [
    "# sample size\n",
    "n = df.shape[0]\n",
    "print('Sample Size: ', n)\n",
    "\n",
    "# the year that the data was recorded was 1868\n",
    "# world population size in 1850 ~ 1,200,000,000 (1.2B)\n",
    "N = 1200000000\n",
    "print('Population Size: ', N)"
   ]
  },
  {
   "cell_type": "markdown",
   "metadata": {},
   "source": [
    "## 2a) Sample Size = Large?"
   ]
  },
  {
   "cell_type": "code",
   "execution_count": 745,
   "metadata": {},
   "outputs": [
    {
     "name": "stdout",
     "output_type": "stream",
     "text": [
      "Sample Size is Large.\n"
     ]
    }
   ],
   "source": [
    "if n > 30:\n",
    "    print('Sample Size is Large.')\n",
    "else:\n",
    "    print('Sample Size is NOT Large.')"
   ]
  },
  {
   "cell_type": "markdown",
   "metadata": {},
   "source": [
    "## 2b) Observations = Independent?\n",
    "There are two conditions to meet for independence: (meet at least one)\n",
    "* Sample with replacement\n",
    "* Sample without replacement if (n ≤ 10% of N)\n",
    "\n",
    "NOTE: It is assumed that one person's body temperature is independent of the next"
   ]
  },
  {
   "cell_type": "code",
   "execution_count": 746,
   "metadata": {},
   "outputs": [
    {
     "name": "stdout",
     "output_type": "stream",
     "text": [
      "There is no mention of \"sample with replacement\" given in the problem statement.\n"
     ]
    }
   ],
   "source": [
    "# sample with replacement\n",
    "\n",
    "print('There is no mention of \"sample with replacement\" given in the problem statement.')"
   ]
  },
  {
   "cell_type": "code",
   "execution_count": 747,
   "metadata": {},
   "outputs": [
    {
     "name": "stdout",
     "output_type": "stream",
     "text": [
      "Sample Size is less than 10% of the Population Size.\n",
      "Individual observations are independent.\n"
     ]
    }
   ],
   "source": [
    "# sample without replacement\n",
    "\n",
    "if n < 0.1 * N:\n",
    "    print('Sample Size is less than 10% of the Population Size.')\n",
    "    print('Individual observations are independent.')\n",
    "else:\n",
    "    print('Sample Size is greater than 10% of the population size.')\n",
    "    print('Individual observations are NOT independent.')"
   ]
  },
  {
   "cell_type": "markdown",
   "metadata": {},
   "source": [
    "## Answer #2\n",
    "The Sample Size is Large and the Observations are Independent."
   ]
  },
  {
   "cell_type": "markdown",
   "metadata": {},
   "source": [
    "# 3) True Population Mean = 98.6F?\n",
    "Is the true population mean really 98.6 degrees F?\n",
    "* First, try a bootstrap hypothesis test.\n",
    "* Now, let's try frequentist statistical testing. Would you use a one-sample or two-sample test? Why?\n",
    "* In this situation, is it appropriate to use the t or z statistic?\n",
    "* Now try using the other test. How is the result different? Why?"
   ]
  },
  {
   "cell_type": "markdown",
   "metadata": {},
   "source": [
    "## 3a) Bootstrap Hypothesis Test\n",
    "\n",
    "Resample the data and perform the statistical inference\n",
    "\n",
    "* Null Hypothes (H0) = The True Population Mean of the Temperature Data is really 98.6F\n",
    "* Test Statistic = Mean\n",
    "* Significance Level = 0.05\n",
    "* Confidence Level = 95%"
   ]
  },
  {
   "cell_type": "code",
   "execution_count": 748,
   "metadata": {},
   "outputs": [],
   "source": [
    "# null hypothesis\n",
    "temp_mean_pop = 98.6\n",
    "\n",
    "# significance level\n",
    "alpha = 0.05\n",
    "\n",
    "# random seed for repeatability\n",
    "np.random.seed(rand_seed)\n",
    "\n",
    "# the number of simulations\n",
    "sim_size = 10000"
   ]
  },
  {
   "cell_type": "code",
   "execution_count": 749,
   "metadata": {},
   "outputs": [],
   "source": [
    "# define bootstrap functions\n",
    "\n",
    "def replicate(data, func):\n",
    "    '''resample the data and return the statistic'''\n",
    "    return func(np.random.choice(data, size=len(data)))\n",
    "\n",
    "\n",
    "def draw_replicates(data, func, size=1):\n",
    "    '''Draw bootstrap replicates'''\n",
    "\n",
    "    # initialize empty replicates array\n",
    "    replicates = np.empty(size)\n",
    "\n",
    "    # generate replicates\n",
    "    for i in range(size):\n",
    "        replicates[i] = replicate(data, func)\n",
    "\n",
    "    return replicates"
   ]
  },
  {
   "cell_type": "code",
   "execution_count": 750,
   "metadata": {},
   "outputs": [
    {
     "name": "stdout",
     "output_type": "stream",
     "text": [
      "p-value:  0.0\n",
      "\n",
      "The p-value ( 0.0 ) is less than alpha ( 0.05 )\n",
      "Reject the Null Hypothesis (H0).\n",
      "The True Population Mean of the Temperature Data is NOT really 98.6F.\n"
     ]
    }
   ],
   "source": [
    "# bootstrap with temperature data and population mean\n",
    "\n",
    "# shift temperatures to assume the Null Hypothesis to be true, mean = 98.6\n",
    "temp_shift = df.temperature - np.mean(df.temperature) + temp_mean_pop\n",
    "\n",
    "# draw bootstrap replicates of shifted temperature data\n",
    "temp_mean_rep = draw_replicates(temp_shift, np.mean, size=sim_size)\n",
    "\n",
    "# compute p-value\n",
    "p_value = np.sum(temp_mean_rep <= temp_mean_obs) / len(temp_mean_rep)\n",
    "print('p-value: ', p_value)\n",
    "print()\n",
    "\n",
    "if p_value > alpha:\n",
    "    print('The p-value (', p_value, ') is greater than alpha (', alpha, ')')\n",
    "    print('Failed to Reject the Null Hypothesis (H0).')\n",
    "    print('The True Population Mean of the Temperature Data is really 98.6F.')\n",
    "else:\n",
    "    print('The p-value (', p_value, ') is less than alpha (', alpha, ')')\n",
    "    print('Reject the Null Hypothesis (H0).')\n",
    "    print('The True Population Mean of the Temperature Data is NOT really 98.6F.')"
   ]
  },
  {
   "cell_type": "markdown",
   "metadata": {},
   "source": [
    "## 3b) Frequentist Statistical Test\n",
    "\n",
    "Draw conclusions from sample data by emphasizing the frequency or proportion of the data\n",
    "\n",
    "Use a One-Sample Test because there is a 1D array of data and a mean (True Population Mean)"
   ]
  },
  {
   "cell_type": "markdown",
   "metadata": {},
   "source": [
    "## 3c) t-statistic\n",
    "\n",
    "The Population Standard Deviation is unknown, therefore a t-statistic should be used."
   ]
  },
  {
   "cell_type": "markdown",
   "metadata": {},
   "source": [
    "\\begin{equation}\n",
    "\\mathbf{t-statistic} =\n",
    "\\frac{(SampleMean)(PopulationMean)} {\\frac{SampleStandardDeviation}{\\sqrt{SampleSize}}} =\n",
    "\\frac{(\\bar x)(\\mu_{\\bar x})} {\\frac{s}{\\sqrt{n}}}\n",
    "\\end{equation}"
   ]
  },
  {
   "cell_type": "code",
   "execution_count": 751,
   "metadata": {},
   "outputs": [],
   "source": [
    "# define the t-statistic function\n",
    "\n",
    "def t_stat(data, pop_mean=temp_mean_pop):\n",
    "    return (np.mean(data) - pop_mean) / (np.std(data) / np.sqrt(len(data)))"
   ]
  },
  {
   "cell_type": "code",
   "execution_count": 752,
   "metadata": {},
   "outputs": [
    {
     "name": "stdout",
     "output_type": "stream",
     "text": [
      "t-statistic:  -5.475925202078116\n"
     ]
    }
   ],
   "source": [
    "# calculate the t-statistic\n",
    "t_statistic = t_stat(df.temperature)\n",
    "\n",
    "print('t-statistic: ', t_statistic)"
   ]
  },
  {
   "cell_type": "markdown",
   "metadata": {},
   "source": [
    "## 3d) z-statistic"
   ]
  },
  {
   "cell_type": "code",
   "execution_count": 753,
   "metadata": {},
   "outputs": [],
   "source": [
    "# define the z-statistic function\n",
    "\n",
    "def z_stat(data, pop_mean=temp_mean_pop, sigma=temp_std_obs):\n",
    "    return (np.mean(data) - pop_mean) / (sigma / np.sqrt(len(data)))"
   ]
  },
  {
   "cell_type": "code",
   "execution_count": 754,
   "metadata": {},
   "outputs": [
    {
     "name": "stdout",
     "output_type": "stream",
     "text": [
      "z-statistic:  -5.475925202078116\n"
     ]
    }
   ],
   "source": [
    "# compute the z-statistic\n",
    "z_statistic = z_stat(df.temperature)\n",
    "\n",
    "print('z-statistic: ', z_statistic)"
   ]
  },
  {
   "cell_type": "markdown",
   "metadata": {},
   "source": [
    "With a confidence level of 95%, the t-statistic and the z-statistic are very similar.\n",
    "\n",
    "As the Sample Size (n) increases, the t-statistic approaches the z-statistic."
   ]
  },
  {
   "cell_type": "markdown",
   "metadata": {},
   "source": [
    "## Answer #3\n",
    "The True Population Mean of the Temperature Data is NOT really 98.6F.\n",
    "* Bootstrap Hypothesis\n",
    "* t-statistic\n",
    "* z-statistic"
   ]
  },
  {
   "cell_type": "markdown",
   "metadata": {},
   "source": [
    "# 4) Repeat Step 3 w/ Sample Size = 10\n",
    "Draw a small sample of size 10 from the data and repeat both frequentist tests.\n",
    "* Which one is the correct one to use?\n",
    "* What do you notice? What does this tell you about the difference in application of the t and z statistic?"
   ]
  },
  {
   "cell_type": "code",
   "execution_count": 755,
   "metadata": {},
   "outputs": [],
   "source": [
    "# random seed for repeatability\n",
    "np.random.seed(rand_seed)\n",
    "\n",
    "# Draw 10 samples from the data\n",
    "sample = np.random.choice(df['temperature'], size=10)\n",
    "\n",
    "# Shift the data \n",
    "sample_shifted = sample - np.mean(sample) + temp_mean_pop"
   ]
  },
  {
   "cell_type": "markdown",
   "metadata": {},
   "source": [
    "## 4a) z-statistic\n",
    "\n",
    "The z-statistic should be used because (n=10)<30"
   ]
  },
  {
   "cell_type": "code",
   "execution_count": 756,
   "metadata": {},
   "outputs": [
    {
     "name": "stdout",
     "output_type": "stream",
     "text": [
      "z-statistic for n=10: -2.3813708340316593\n",
      "p-value_10:  0.0014\n",
      "The p-value ( 0.0014 ) is less than alpha ( 0.05 )\n",
      "Reject the Null Hypothesis (H0).\n",
      "The True Population Mean of the Temperature Data is NOT really 98.6F.\n"
     ]
    }
   ],
   "source": [
    "# Compute z-statistic\n",
    "z10 = z_stat(sample)\n",
    "# Draw bootstrap reps\n",
    "z_reps10 = draw_replicates(sample_shifted, z_stat, size=10000)\n",
    "# Compute the p-value\n",
    "p_z_value10 = np.sum(np.abs(z_reps10) >= np.abs(z10)) / len(z_reps10)\n",
    "\n",
    "print('z-statistic for n=10:', z10)\n",
    "print('p-value_10: ', p_z_value10)\n",
    "\n",
    "if p_z_value10 > alpha:\n",
    "    print('The p-value (', p_z_value10, ') is greater than alpha (', alpha, ')')\n",
    "    print('Failed to Reject the Null Hypothesis (H0).')\n",
    "    print('The True Population Mean of the Temperature Data is really 98.6F.')\n",
    "else:\n",
    "    print('The p-value (', p_z_value10, ') is less than alpha (', alpha, ')')\n",
    "    print('Reject the Null Hypothesis (H0).')\n",
    "    print('The True Population Mean of the Temperature Data is NOT really 98.6F.')"
   ]
  },
  {
   "cell_type": "markdown",
   "metadata": {},
   "source": [
    "## 4b) t-statistic"
   ]
  },
  {
   "cell_type": "code",
   "execution_count": 757,
   "metadata": {},
   "outputs": [
    {
     "name": "stdout",
     "output_type": "stream",
     "text": [
      "t-statistic for n=10: -3.260780417008125\n",
      "p-value:  0.0132\n",
      "The p-value ( 0.0132 ) is less than alpha ( 0.05 )\n",
      "Reject the Null Hypothesis (H0).\n",
      "The True Population Mean of the Temperature Data is NOT really 98.6F.\n"
     ]
    }
   ],
   "source": [
    "# Compute t-statistic\n",
    "t10 = t_stat(sample)\n",
    "# Draw bootstrap reps\n",
    "t_reps10 = draw_replicates(sample_shifted, t_stat, size=10000)\n",
    "# Compute the p-value\n",
    "p_t_value10 = np.sum(np.abs(t_reps10) >= np.abs(t10)) / len(t_reps10)\n",
    "\n",
    "print('t-statistic for n=10:', t10)\n",
    "print('p-value: ', p_t_value10)\n",
    "\n",
    "if p_t_value10 > alpha:\n",
    "    print('The p-value (', p_t_value10, ') is greater than alpha (', alpha, ')')\n",
    "    print('Failed to Reject the Null Hypothesis (H0).')\n",
    "    print('The True Population Mean of the Temperature Data is really 98.6F.')\n",
    "else:\n",
    "    print('The p-value (', p_t_value10, ') is less than alpha (', alpha, ')')\n",
    "    print('Reject the Null Hypothesis (H0).')\n",
    "    print('The True Population Mean of the Temperature Data is NOT really 98.6F.')"
   ]
  },
  {
   "cell_type": "markdown",
   "metadata": {},
   "source": [
    "The p values for the t and z statistics are different and that is because the sample size is small (n=10)<30\n",
    "* t-statistics are used for SMALL sample sizes\n",
    "* z-statistics are used for LARGE sample sizes"
   ]
  },
  {
   "cell_type": "markdown",
   "metadata": {},
   "source": [
    "## Answer #4\n",
    "The True Population Mean of the Temperature Data is NOT really 98.6F.\n",
    "* t-statistic\n",
    "* z-statistic"
   ]
  },
  {
   "cell_type": "markdown",
   "metadata": {},
   "source": [
    "# 5) Abnormal Body Temperature = __?"
   ]
  },
  {
   "cell_type": "markdown",
   "metadata": {},
   "source": [
    "At what temperature should we consider someone's temperature to be \"abnormal\"?\n",
    "* As in the previous example, try calculating everything using the bootstrap approach, as well as the frequentist approach.\n",
    "* Start by computing the margin of error and confidence interval. When calculating the confidence interval, keep in mind that you should use the appropriate formula for one draw, and not N draws."
   ]
  },
  {
   "cell_type": "markdown",
   "metadata": {},
   "source": [
    "## Initial Look\n",
    "Notable Body Temperatures for Adults\n",
    "* Hypothermia <= 95.0F\n",
    "* Fever >= 100.4F"
   ]
  },
  {
   "cell_type": "code",
   "execution_count": 758,
   "metadata": {},
   "outputs": [
    {
     "name": "stdout",
     "output_type": "stream",
     "text": [
      "Number of Samples with Hypothermia:  0\n",
      "Number of Samples with a Fever:  1\n",
      "Fever Temps:  [100.8]\n"
     ]
    }
   ],
   "source": [
    "# find outliers in the extreme ranges of hypothermia or fever\n",
    "\n",
    "hypothermia = 95\n",
    "fever = 100.4\n",
    "\n",
    "hyp_count = len(df[df.temperature <= hypothermia])\n",
    "print('Number of Samples with Hypothermia: ', hyp_count)\n",
    "if hyp_count > 0:\n",
    "    print('Hypothermia Temps: ', list(df[df.temperature <= hypothermia].temperature))\n",
    "\n",
    "fev_count = len(df[df.temperature >= fever])\n",
    "print('Number of Samples with a Fever: ', fev_count)\n",
    "if fev_count > 0:\n",
    "    print('Fever Temps: ', list(df[df.temperature >= fever].temperature))"
   ]
  },
  {
   "cell_type": "markdown",
   "metadata": {},
   "source": [
    "## z-statistic - 2 Standard Deviations"
   ]
  },
  {
   "cell_type": "code",
   "execution_count": 759,
   "metadata": {},
   "outputs": [
    {
     "name": "stdout",
     "output_type": "stream",
     "text": [
      "     temperature gender  heart_rate         z\n",
      "116        100.8      F        77.0  3.492493\n",
      "91         100.0      F        78.0  2.397139\n",
      "96          99.9      F        79.0  2.260220\n",
      "35          99.5      M        75.0  1.712543\n",
      "103         99.4      F        77.0  1.575624\n",
      "19          99.4      M        70.0  1.575624\n",
      "34          99.3      M        63.0  1.438705\n",
      "0           99.3      F        68.0  1.438705\n",
      "3           99.2      F        66.0  1.301786\n",
      "83          99.2      F        77.0  1.301786\n",
      "     temperature gender  heart_rate         z\n",
      "49          97.1      M        82.0 -1.573518\n",
      "85          97.1      M        75.0 -1.573518\n",
      "93          97.1      M        73.0 -1.573518\n",
      "106         97.0      M        80.0 -1.710437\n",
      "42          96.9      M        74.0 -1.847356\n",
      "95          96.8      F        75.0 -1.984275\n",
      "11          96.7      F        62.0 -2.121194\n",
      "105         96.7      M        71.0 -2.121194\n",
      "39          96.4      F        69.0 -2.531952\n",
      "125         96.3      M        70.0 -2.668871\n"
     ]
    }
   ],
   "source": [
    "# calculate the z-statistic for each sample\n",
    "\n",
    "df['z'] = (df.temperature - temp_mean_obs) / temp_std_obs\n",
    "\n",
    "df = df.sort_values(by=['z'], ascending=False)\n",
    "print(df.head(10))\n",
    "print(df.tail(10))\n"
   ]
  },
  {
   "cell_type": "code",
   "execution_count": 760,
   "metadata": {},
   "outputs": [
    {
     "name": "stdout",
     "output_type": "stream",
     "text": [
      "Cold Samples:  4\n",
      "Normal Samples:  123\n",
      "Hot Samples:  3\n"
     ]
    }
   ],
   "source": [
    "# create 3 categories based on the z values\n",
    "# data beyond two standard deviations away from the mean is considered \"abnormal\" data\n",
    "\n",
    "temp_cold = df[df.z <= -2]\n",
    "temp_norm = df[abs(df.z) < 2]\n",
    "temp_hot = df[df.z >= 2]\n",
    "\n",
    "print('Cold Samples: ', len(temp_cold))\n",
    "print('Normal Samples: ', len(temp_norm))\n",
    "print('Hot Samples: ', len(temp_hot))"
   ]
  },
  {
   "cell_type": "code",
   "execution_count": 761,
   "metadata": {},
   "outputs": [
    {
     "name": "stderr",
     "output_type": "stream",
     "text": [
      "C:\\Users\\Miles\\Anaconda3\\lib\\site-packages\\matplotlib\\axes\\_axes.py:6462: UserWarning: The 'normed' kwarg is deprecated, and has been replaced by the 'density' kwarg.\n",
      "  warnings.warn(\"The 'normed' kwarg is deprecated, and has been \"\n"
     ]
    },
    {
     "data": {
      "image/png": "[encoded data removed]",
      "text/plain": [
       "<Figure size 432x288 with 1 Axes>"
      ]
     },
     "metadata": {},
     "output_type": "display_data"
    }
   ],
   "source": [
    "# histogram plot\n",
    "\n",
    "sns.set()\n",
    "\n",
    "plt.hist([temp_cold.temperature, temp_norm.temperature, temp_hot.temperature], \n",
    "         bins=temp_bins, \n",
    "         normed=False, \n",
    "         #label='Temperature Data', \n",
    "         align='mid',\n",
    "         stacked=True,\n",
    "         color=['blue', 'green', 'red'])\n",
    "\n",
    "_ = plt.xlim(96, 101)\n",
    "_ = plt.ylim(0, 40)\n",
    "_ = plt.xlabel('Temperature ($^\\circ$F)')\n",
    "_ = plt.ylabel('# of Samples')\n",
    "_ = plt.legend(['Cold (' + str(len(temp_cold)) + ')', \n",
    "                'Normal (' + str(len(temp_norm)) + ')', \n",
    "                'Hot (' + str(len(temp_hot)) + ')'])\n",
    "_ = plt.title('Histogram of Temperature by Normality')"
   ]
  },
  {
   "cell_type": "code",
   "execution_count": 762,
   "metadata": {},
   "outputs": [
    {
     "name": "stdout",
     "output_type": "stream",
     "text": [
      "96.7885152114207 99.70994632704085\n"
     ]
    }
   ],
   "source": [
    "# invtervals between cold, normal and hot according to 2 STD away from the mean\n",
    "\n",
    "z_low = temp_mean_obs - 2 * temp_std_obs\n",
    "z_high = temp_mean_obs + 2 * temp_std_obs\n",
    "\n",
    "print(z_low, z_high)"
   ]
  },
  {
   "cell_type": "markdown",
   "metadata": {},
   "source": [
    "## z-statistic, Standard Error of the Mean, Margin of Error"
   ]
  },
  {
   "cell_type": "code",
   "execution_count": 763,
   "metadata": {},
   "outputs": [
    {
     "name": "stdout",
     "output_type": "stream",
     "text": [
      "z-critical:  1.6448536269514722\n",
      "Standard Error of the Mean:  0.06405661469519336\n",
      "Margin of Error:  0.10536375501162176\n",
      "( 95.0 %) Confidence Interval: [98.14386701421915, 98.3545945242424]\n"
     ]
    }
   ],
   "source": [
    "# confidence interval\n",
    "conf = 0.95\n",
    "\n",
    "# calculate the critical z value for a confidence level of 95%\n",
    "z_crit = stats.norm.ppf(conf)\n",
    "\n",
    "# calculate the standard error of the mean\n",
    "sem = temp_std_obs / np.sqrt(n)\n",
    "\n",
    "# calculate the margin of error\n",
    "moe = z_crit * sem\n",
    "\n",
    "# calculate the confidence interval\n",
    "conf_int = [temp_mean_obs - moe, temp_mean_obs + moe]\n",
    "\n",
    "print('z-critical: ', z_crit)\n",
    "print('Standard Error of the Mean: ', sem)\n",
    "print('Margin of Error: ', moe)\n",
    "print('(', str(conf*100), '%) Confidence Interval:', conf_int)"
   ]
  },
  {
   "cell_type": "markdown",
   "metadata": {},
   "source": [
    "## Bootstrap"
   ]
  },
  {
   "cell_type": "code",
   "execution_count": 764,
   "metadata": {},
   "outputs": [
    {
     "name": "stdout",
     "output_type": "stream",
     "text": [
      "Percentiles:  [ 2.5 97.5]\n",
      "( 95.0 %) Confidence Interval: [98.12076923 98.37538462]\n"
     ]
    }
   ],
   "source": [
    "# random seed for repeatability\n",
    "np.random.seed(rand_seed)\n",
    "\n",
    "# draw bootstrap replicates of temperatures:\n",
    "temp_reps = draw_replicates(df.temperature, np.mean, 10000)\n",
    "\n",
    "perc = np.round([100*(1-conf)/2, 100*(1-(1-conf)/2)], 4)\n",
    "print('Percentiles: ', perc)\n",
    "\n",
    "# Compute the confidence interval:\n",
    "conf_int = np.percentile(temp_reps, perc)\n",
    "print('(', str(conf*100), '%) Confidence Interval:', conf_int)"
   ]
  },
  {
   "cell_type": "markdown",
   "metadata": {},
   "source": [
    "## Prediction Interval"
   ]
  },
  {
   "cell_type": "code",
   "execution_count": 765,
   "metadata": {},
   "outputs": [
    {
     "name": "stdout",
     "output_type": "stream",
     "text": [
      "95.0 % prediction interval:  [97.04789913 99.45056241]\n"
     ]
    }
   ],
   "source": [
    "# prediction interval based on one draw\n",
    "\n",
    "pred = z_crit * temp_std_obs/np.sqrt(1)\n",
    "pred_int = np.array([temp_mean_obs - pred, temp_mean_obs + pred])\n",
    "print(str(conf*100), '% prediction interval: ', pred_int)"
   ]
  },
  {
   "cell_type": "markdown",
   "metadata": {},
   "source": [
    "# 6) Males & Females = Significant Difference?\n",
    "Is there a significant difference between males and females in normal temperature?\n",
    "* What testing approach did you use and why?"
   ]
  },
  {
   "cell_type": "code",
   "execution_count": 766,
   "metadata": {},
   "outputs": [],
   "source": [
    "# seperate temp data per gender\n",
    "\n",
    "temp_m = df[df.gender == 'M'].temperature\n",
    "temp_f = df[df.gender == 'F'].temperature"
   ]
  },
  {
   "cell_type": "code",
   "execution_count": 767,
   "metadata": {},
   "outputs": [
    {
     "name": "stdout",
     "output_type": "stream",
     "text": [
      "# of Males:  65\n",
      "# of Females:  65\n"
     ]
    }
   ],
   "source": [
    "# count the number of each gender\n",
    "\n",
    "num_m = temp_m.shape[0]\n",
    "num_f = temp_f.shape[0]\n",
    "\n",
    "print('# of Males: ', num_m)\n",
    "print('# of Females: ', num_f)"
   ]
  },
  {
   "cell_type": "code",
   "execution_count": 768,
   "metadata": {},
   "outputs": [
    {
     "name": "stdout",
     "output_type": "stream",
     "text": [
      "Average Male Body Temperature:  98.10461538461539\n",
      "Average Female Body Temperature:  98.39384615384611\n"
     ]
    }
   ],
   "source": [
    "# calculate the means of each gender\n",
    "\n",
    "temp_mean_m = np.mean(temp_m)\n",
    "temp_mean_f = np.mean(temp_f)\n",
    "\n",
    "print('Average Male Body Temperature: ', temp_mean_m)\n",
    "print('Average Female Body Temperature: ', temp_mean_f)"
   ]
  },
  {
   "cell_type": "markdown",
   "metadata": {},
   "source": [
    "## Graphical Method"
   ]
  },
  {
   "cell_type": "code",
   "execution_count": 769,
   "metadata": {},
   "outputs": [
    {
     "data": {
      "image/png": "[encoded data removed]",
      "text/plain": [
       "<Figure size 432x288 with 1 Axes>"
      ]
     },
     "metadata": {},
     "output_type": "display_data"
    }
   ],
   "source": [
    "# ecdf plot per gender\n",
    "\n",
    "x_m , y_m = cdf(temp_m)\n",
    "x_f , y_f = cdf(temp_f)\n",
    "#x_norm , y_norm = cdf(temp_samp)\n",
    "\n",
    "plt.plot(x_m , y_m,\n",
    "         marker='.', \n",
    "         linestyle='none', \n",
    "         color='blue')\n",
    "\n",
    "plt.plot(x_f , y_f,\n",
    "         marker='.', \n",
    "         linestyle='none', \n",
    "         color='red')\n",
    "\n",
    "_ = plt.xlim(96, 101)\n",
    "_ = plt.ylim(0, 1.05)\n",
    "_ = plt.xlabel('Temperature ($^\\circ$F)')\n",
    "_ = plt.ylabel('CDF')\n",
    "_ = plt.legend(['Male Temperatures','Female Temperatures'], loc=4)\n",
    "_ = plt.title('CDF of Temperature per Gender')"
   ]
  },
  {
   "cell_type": "markdown",
   "metadata": {},
   "source": [
    "## Bootstrap Permutation"
   ]
  },
  {
   "cell_type": "markdown",
   "metadata": {},
   "source": [
    "Resample the data and perform the statistical inference\n",
    "* Null Hypothes (H0) = There is no Significant Difference between Male and Female Body Temperatures\n",
    "* Test Statistic = Mean\n",
    "* Significance Level = 0.05\n",
    "* Confidence Level = 95%"
   ]
  },
  {
   "cell_type": "code",
   "execution_count": 770,
   "metadata": {},
   "outputs": [],
   "source": [
    "# define the function: difference between males and females\n",
    "\n",
    "def gen_temp_diff(data1, data2):\n",
    "    return np.mean(data1) - np.mean(data2)"
   ]
  },
  {
   "cell_type": "code",
   "execution_count": 771,
   "metadata": {},
   "outputs": [
    {
     "data": {
      "text/plain": [
       "-0.289230769230727"
      ]
     },
     "execution_count": 771,
     "metadata": {},
     "output_type": "execute_result"
    }
   ],
   "source": [
    "# difference of means, original data\n",
    "\n",
    "mean_diff_orig = gen_temp_diff(temp_m, temp_f)\n",
    "mean_diff_orig"
   ]
  },
  {
   "cell_type": "code",
   "execution_count": 772,
   "metadata": {},
   "outputs": [
    {
     "name": "stdout",
     "output_type": "stream",
     "text": [
      "The p-value ( 0.0228 ) is less than alpha ( 0.05 )\n",
      "Reject the Null Hypothesis (H0).\n",
      "There is a Significant Difference between Male and Female Body Temperatures.\n"
     ]
    }
   ],
   "source": [
    "# compute the p-value\n",
    "\n",
    "perm_reps = np.empty(sim_size)\n",
    "for i in range(sim_size):\n",
    "    temp_perm = np.random.permutation(df.temperature)\n",
    "    perm_samp_m = temp_perm[:len(temp_m)]\n",
    "    perm_samp_f = temp_perm[len(temp_m):]\n",
    "    perm_reps[i] = gen_temp_diff(perm_samp_m, perm_samp_f)\n",
    "\n",
    "p_value = np.sum(abs(perm_reps) >= abs(mean_diff_orig)) / len(perm_reps)\n",
    "\n",
    "if p_value > alpha:\n",
    "    print('The p-value (', p_value, ') is greater than alpha (', alpha, ')')\n",
    "    print('Failed to Reject the Null Hypothesis (H0).')\n",
    "    print('There is NO Significant Difference between Male and Female Body Temperatures.')\n",
    "else:\n",
    "    print('The p-value (', p_value, ') is less than alpha (', alpha, ')')\n",
    "    print('Reject the Null Hypothesis (H0).')\n",
    "    print('There is a Significant Difference between Male and Female Body Temperatures.')"
   ]
  },
  {
   "cell_type": "markdown",
   "metadata": {},
   "source": [
    "## 2 Sample t-test"
   ]
  },
  {
   "cell_type": "code",
   "execution_count": 773,
   "metadata": {},
   "outputs": [
    {
     "name": "stdout",
     "output_type": "stream",
     "text": [
      "t-statistic: -2.2854345381654984\n",
      "p-value: 0.02393188312240236\n"
     ]
    }
   ],
   "source": [
    "t_statistic = stats.ttest_ind(temp_m, temp_f)[0]\n",
    "p_value = stats.ttest_ind(temp_m, temp_f)[1]\n",
    "\n",
    "print('t-statistic:', t_statistic)\n",
    "print('p-value:', p_value)"
   ]
  },
  {
   "cell_type": "markdown",
   "metadata": {},
   "source": [
    "## Answer #6\n",
    "There is a Significan Difference between Male and Female Body Temperatures.\n",
    "* Graphical Method\n",
    "* Bootstrap Permutation\n",
    "* 2 Sample t-test"
   ]
  },
  {
   "cell_type": "markdown",
   "metadata": {},
   "source": [
    "# Conclusion\n",
    "The Mean Normal Body Temperature was held to be 98.6℉ for more than 120 years since it was first conceptualized and reported by Carl Wunderlich in a famous 1868 book. But, is this value statistically correct?\n",
    "* Write a story with your conclusion in the context of the original problem."
   ]
  },
  {
   "cell_type": "markdown",
   "metadata": {},
   "source": [
    "The Mean Normal Body Temperature of 98.6F is NOT statistically correct according to the data provided.\n",
    "\n",
    "Means:\n",
    "* Overall = 98.2F\n",
    "* Male = 98.1F\n",
    "* Female = 98.4F\n",
    "\n",
    "The data is:\n",
    "* Normally Distributed\n",
    "* Large Sample Size\n",
    "* Independently Observed\n",
    "\n",
    "Abnormal Temperatures = 5% of the data\n",
    "\n",
    "There is a Significant Differene between Male and Female Body Temperatures."
   ]
  }
 ],
 "metadata": {
  "kernelspec": {
   "display_name": "Python 3",
   "language": "python",
   "name": "python3"
  },
  "language_info": {
   "codemirror_mode": {
    "name": "ipython",
    "version": 3
   },
   "file_extension": ".py",
   "mimetype": "text/x-python",
   "name": "python",
   "nbconvert_exporter": "python",
   "pygments_lexer": "ipython3",
   "version": "3.6.5"
  }
 },
 "nbformat": 4,
 "nbformat_minor": 1
}
