{
 "cells": [
  {
   "cell_type": "markdown",
   "metadata": {},
   "source": [
    "# Hospital Readmissions Data Analysis and Recommendations for Reduction\n",
    "\n",
    "### Background\n",
    "In October 2012, the US government's Center for Medicare and Medicaid Services (CMS) began reducing Medicare payments for Inpatient Prospective Payment System hospitals with excess readmissions. Excess readmissions are measured by a ratio, by dividing a hospital’s number of “predicted” 30-day readmissions for heart attack, heart failure, and pneumonia by the number that would be “expected,” based on an average hospital with similar patients. A ratio greater than 1 indicates excess readmissions.\n",
    "\n",
    "### Exercise Directions\n",
    "\n",
    "In this exercise, you will:\n",
    "+ critique a preliminary analysis of readmissions data and recommendations (provided below) for reducing the readmissions rate\n",
    "+ construct a statistically sound analysis and make recommendations of your own \n",
    "\n",
    "More instructions provided below. Include your work **in this notebook and submit to your Github account**. \n",
    "\n",
    "### Resources\n",
    "+ Data source: https://data.medicare.gov/Hospital-Compare/Hospital-Readmission-Reduction/9n3s-kdb3\n",
    "+ More information: http://www.cms.gov/Medicare/medicare-fee-for-service-payment/acuteinpatientPPS/readmissions-reduction-program.html\n",
    "+ Markdown syntax: http://nestacms.com/docs/creating-content/markdown-cheat-sheet\n",
    "****"
   ]
  },
  {
   "cell_type": "markdown",
   "metadata": {},
   "source": [
    "# Libraries"
   ]
  },
  {
   "cell_type": "code",
   "execution_count": 566,
   "metadata": {},
   "outputs": [],
   "source": [
    "%matplotlib inline\n",
    "\n",
    "import pandas as pd\n",
    "import numpy as np\n",
    "import matplotlib.pyplot as plt\n",
    "import bokeh.plotting as bkp\n",
    "from mpl_toolkits.axes_grid1 import make_axes_locatable\n",
    "import seaborn as sns\n",
    "import scipy as sc"
   ]
  },
  {
   "cell_type": "markdown",
   "metadata": {},
   "source": [
    "***\n",
    "# Import and View Data"
   ]
  },
  {
   "cell_type": "code",
   "execution_count": 567,
   "metadata": {},
   "outputs": [],
   "source": [
    "# read in readmissions data provided\n",
    "hosp_data_orig = pd.read_csv('data/cms_hospital_readmissions.csv')"
   ]
  },
  {
   "cell_type": "code",
   "execution_count": 568,
   "metadata": {},
   "outputs": [
    {
     "data": {
      "text/plain": [
       "(16860, 12)"
      ]
     },
     "execution_count": 568,
     "metadata": {},
     "output_type": "execute_result"
    }
   ],
   "source": [
    "# number of rows and columns in df\n",
    "hosp_data_orig.shape"
   ]
  },
  {
   "cell_type": "code",
   "execution_count": 569,
   "metadata": {},
   "outputs": [
    {
     "data": {
      "text/html": [
       "<div>\n",
       "<style scoped>\n",
       "    .dataframe tbody tr th:only-of-type {\n",
       "        vertical-align: middle;\n",
       "    }\n",
       "\n",
       "    .dataframe tbody tr th {\n",
       "        vertical-align: top;\n",
       "    }\n",
       "\n",
       "    .dataframe thead th {\n",
       "        text-align: right;\n",
       "    }\n",
       "</style>\n",
       "<table border=\"1\" class=\"dataframe\">\n",
       "  <thead>\n",
       "    <tr style=\"text-align: right;\">\n",
       "      <th></th>\n",
       "      <th>Hospital Name</th>\n",
       "      <th>Provider Number</th>\n",
       "      <th>State</th>\n",
       "      <th>Measure Name</th>\n",
       "      <th>Number of Discharges</th>\n",
       "      <th>Footnote</th>\n",
       "      <th>Excess Readmission Ratio</th>\n",
       "      <th>Predicted Readmission Rate</th>\n",
       "      <th>Expected Readmission Rate</th>\n",
       "      <th>Number of Readmissions</th>\n",
       "      <th>Start Date</th>\n",
       "      <th>End Date</th>\n",
       "    </tr>\n",
       "  </thead>\n",
       "  <tbody>\n",
       "    <tr>\n",
       "      <th>0</th>\n",
       "      <td>FROEDTERT MEMORIAL LUTHERAN HOSPITAL</td>\n",
       "      <td>520177</td>\n",
       "      <td>WI</td>\n",
       "      <td>READM-30-HIP-KNEE-HRRP</td>\n",
       "      <td>242</td>\n",
       "      <td>NaN</td>\n",
       "      <td>1.9095</td>\n",
       "      <td>10.8</td>\n",
       "      <td>5.6</td>\n",
       "      <td>38.0</td>\n",
       "      <td>07/01/2010</td>\n",
       "      <td>06/30/2013</td>\n",
       "    </tr>\n",
       "    <tr>\n",
       "      <th>1</th>\n",
       "      <td>PROVIDENCE HOSPITAL</td>\n",
       "      <td>90006</td>\n",
       "      <td>DC</td>\n",
       "      <td>READM-30-HIP-KNEE-HRRP</td>\n",
       "      <td>247</td>\n",
       "      <td>NaN</td>\n",
       "      <td>1.7521</td>\n",
       "      <td>9.2</td>\n",
       "      <td>5.3</td>\n",
       "      <td>33.0</td>\n",
       "      <td>07/01/2010</td>\n",
       "      <td>06/30/2013</td>\n",
       "    </tr>\n",
       "    <tr>\n",
       "      <th>2</th>\n",
       "      <td>BEAUFORT COUNTY MEMORIAL HOSPITAL</td>\n",
       "      <td>420067</td>\n",
       "      <td>SC</td>\n",
       "      <td>READM-30-HIP-KNEE-HRRP</td>\n",
       "      <td>586</td>\n",
       "      <td>NaN</td>\n",
       "      <td>1.5836</td>\n",
       "      <td>7.6</td>\n",
       "      <td>4.8</td>\n",
       "      <td>53.0</td>\n",
       "      <td>07/01/2010</td>\n",
       "      <td>06/30/2013</td>\n",
       "    </tr>\n",
       "    <tr>\n",
       "      <th>3</th>\n",
       "      <td>ADVOCATE CHRIST HOSPITAL &amp; MEDICAL CENTER</td>\n",
       "      <td>140208</td>\n",
       "      <td>IL</td>\n",
       "      <td>READM-30-HIP-KNEE-HRRP</td>\n",
       "      <td>965</td>\n",
       "      <td>NaN</td>\n",
       "      <td>1.5760</td>\n",
       "      <td>9.0</td>\n",
       "      <td>5.7</td>\n",
       "      <td>95.0</td>\n",
       "      <td>07/01/2010</td>\n",
       "      <td>06/30/2013</td>\n",
       "    </tr>\n",
       "    <tr>\n",
       "      <th>4</th>\n",
       "      <td>BRAZOSPORT REGIONAL HEALTH SYSTEM</td>\n",
       "      <td>450072</td>\n",
       "      <td>TX</td>\n",
       "      <td>READM-30-HIP-KNEE-HRRP</td>\n",
       "      <td>149</td>\n",
       "      <td>NaN</td>\n",
       "      <td>1.5308</td>\n",
       "      <td>8.2</td>\n",
       "      <td>5.4</td>\n",
       "      <td>20.0</td>\n",
       "      <td>07/01/2010</td>\n",
       "      <td>06/30/2013</td>\n",
       "    </tr>\n",
       "  </tbody>\n",
       "</table>\n",
       "</div>"
      ],
      "text/plain": [
       "                               Hospital Name  Provider Number State  \\\n",
       "0       FROEDTERT MEMORIAL LUTHERAN HOSPITAL           520177    WI   \n",
       "1                        PROVIDENCE HOSPITAL            90006    DC   \n",
       "2          BEAUFORT COUNTY MEMORIAL HOSPITAL           420067    SC   \n",
       "3  ADVOCATE CHRIST HOSPITAL & MEDICAL CENTER           140208    IL   \n",
       "4          BRAZOSPORT REGIONAL HEALTH SYSTEM           450072    TX   \n",
       "\n",
       "             Measure Name Number of Discharges  Footnote  \\\n",
       "0  READM-30-HIP-KNEE-HRRP                  242       NaN   \n",
       "1  READM-30-HIP-KNEE-HRRP                  247       NaN   \n",
       "2  READM-30-HIP-KNEE-HRRP                  586       NaN   \n",
       "3  READM-30-HIP-KNEE-HRRP                  965       NaN   \n",
       "4  READM-30-HIP-KNEE-HRRP                  149       NaN   \n",
       "\n",
       "   Excess Readmission Ratio  Predicted Readmission Rate  \\\n",
       "0                    1.9095                        10.8   \n",
       "1                    1.7521                         9.2   \n",
       "2                    1.5836                         7.6   \n",
       "3                    1.5760                         9.0   \n",
       "4                    1.5308                         8.2   \n",
       "\n",
       "   Expected Readmission Rate  Number of Readmissions  Start Date    End Date  \n",
       "0                        5.6                    38.0  07/01/2010  06/30/2013  \n",
       "1                        5.3                    33.0  07/01/2010  06/30/2013  \n",
       "2                        4.8                    53.0  07/01/2010  06/30/2013  \n",
       "3                        5.7                    95.0  07/01/2010  06/30/2013  \n",
       "4                        5.4                    20.0  07/01/2010  06/30/2013  "
      ]
     },
     "execution_count": 569,
     "metadata": {},
     "output_type": "execute_result"
    }
   ],
   "source": [
    "hosp_data_orig.head()"
   ]
  },
  {
   "cell_type": "code",
   "execution_count": 570,
   "metadata": {},
   "outputs": [
    {
     "name": "stdout",
     "output_type": "stream",
     "text": [
      "HN = Hospital Name\n",
      "PN = Provider Number\n",
      "S = State\n",
      "MN = Measure Name\n",
      "NoD = Number of Discharges\n",
      "Fn = Footnote\n",
      "ExcRR = Excess Readmission Ratio\n",
      "PreRR = Predicted Readmission Rate\n",
      "ExpRR = Expected Readmission Rate\n",
      "NoR = Number of Readmissions\n",
      "SD = Start Date\n",
      "ED = End Date\n",
      "\n",
      "Example: NoD = Number of Discharges\n"
     ]
    }
   ],
   "source": [
    "# setup abreviation variables for each column header\n",
    "\n",
    "keys = ['HN', 'PN', 'S', 'MN', 'NoD', 'Fn', 'ExcRR', 'PreRR', 'ExpRR', 'NoR', 'SD', 'ED']\n",
    "values = list(hosp_data_orig.columns)\n",
    "\n",
    "# print(keys)\n",
    "# print(len(keys))\n",
    "# print(values)\n",
    "# print(len(values))\n",
    "\n",
    "for i, v in enumerate(keys):\n",
    "    abv = keys[i]\n",
    "    header = values[i]\n",
    "    print(abv, '=', header)\n",
    "    exec('%s = %s' % (abv,'header'))\n",
    "\n",
    "print()\n",
    "print('Example: NoD =', NoD)"
   ]
  },
  {
   "cell_type": "markdown",
   "metadata": {},
   "source": [
    "## Data Information\n",
    "Center for Medicare Services (CMS) began reducing Medicare payments to Inpatient Prospective Payment System hospitals with excess readmissions"
   ]
  },
  {
   "cell_type": "markdown",
   "metadata": {},
   "source": [
    "\\begin{equation*}\n",
    "Excess Readmissions Ratio = \\frac{Predicted Readmission Rate}{Expected Readmission Rate}\n",
    "\\end{equation*}"
   ]
  },
  {
   "cell_type": "markdown",
   "metadata": {},
   "source": [
    "* 30 day window\n",
    "* Measure Name\n",
    "    * Heart Attack\n",
    "    * Heart Failure\n",
    "    * Pneumonia\n",
    "    * Chronic Obstructive Pulmonary Disease\n",
    "    * Hip/knee replacement\n",
    "    * Coronary Artery Bypass Graft Surgery\n",
    "* Based on an average hospital with similar patients\n",
    "* A ratio greater than 1 indicates excess readmissions"
   ]
  },
  {
   "cell_type": "markdown",
   "metadata": {},
   "source": [
    "***\n",
    "# Clean Data"
   ]
  },
  {
   "cell_type": "code",
   "execution_count": 571,
   "metadata": {},
   "outputs": [],
   "source": [
    "# work on separate df to keep original df the same\n",
    "\n",
    "hosp_data = hosp_data_orig.copy()"
   ]
  },
  {
   "cell_type": "markdown",
   "metadata": {},
   "source": [
    "## State Column"
   ]
  },
  {
   "cell_type": "code",
   "execution_count": 572,
   "metadata": {},
   "outputs": [
    {
     "data": {
      "text/plain": [
       "CategoricalDtype(categories=['AK', 'AL', 'AR', 'AZ', 'CA', 'CO', 'CT', 'DC', 'DE', 'FL',\n",
       "                  'GA', 'HI', 'IA', 'ID', 'IL', 'IN', 'KS', 'KY', 'LA', 'MA',\n",
       "                  'MD', 'ME', 'MI', 'MN', 'MO', 'MS', 'MT', 'NC', 'ND', 'NE',\n",
       "                  'NH', 'NJ', 'NM', 'NV', 'NY', 'OH', 'OK', 'OR', 'PA', 'RI',\n",
       "                  'SC', 'SD', 'TN', 'TX', 'UT', 'VA', 'VT', 'WA', 'WI', 'WV',\n",
       "                  'WY'],\n",
       "                 ordered=False)"
      ]
     },
     "execution_count": 572,
     "metadata": {},
     "output_type": "execute_result"
    }
   ],
   "source": [
    "# set the state column to a categorical data type\n",
    "\n",
    "hosp_data[S] = hosp_data[S].astype('category')\n",
    "hosp_data.State.dtypes"
   ]
  },
  {
   "cell_type": "markdown",
   "metadata": {},
   "source": [
    "## Measure Name Column"
   ]
  },
  {
   "cell_type": "code",
   "execution_count": 573,
   "metadata": {},
   "outputs": [
    {
     "data": {
      "text/plain": [
       "CategoricalDtype(categories=['READM-30-AMI-HRRP', 'READM-30-COPD-HRRP',\n",
       "                  'READM-30-HF-HRRP', 'READM-30-HIP-KNEE-HRRP',\n",
       "                  'READM-30-PN-HRRP'],\n",
       "                 ordered=False)"
      ]
     },
     "execution_count": 573,
     "metadata": {},
     "output_type": "execute_result"
    }
   ],
   "source": [
    "# set the measure name column to a categorical data type\n",
    "\n",
    "hosp_data[MN] = hosp_data[MN].astype('category')\n",
    "hosp_data[MN].dtypes"
   ]
  },
  {
   "cell_type": "markdown",
   "metadata": {},
   "source": [
    "## Footnote Column"
   ]
  },
  {
   "cell_type": "code",
   "execution_count": 574,
   "metadata": {},
   "outputs": [
    {
     "data": {
      "text/plain": [
       "CategoricalDtype(categories=[1.0, 5.0, 7.0, ''], ordered=False)"
      ]
     },
     "execution_count": 574,
     "metadata": {},
     "output_type": "execute_result"
    }
   ],
   "source": [
    "# set the column data type to categorical\n",
    "\n",
    "hosp_data[Fn] = hosp_data[Fn].fillna('')\n",
    "hosp_data[Fn] = hosp_data[Fn].astype('category')\n",
    "hosp_data[Fn].dtypes"
   ]
  },
  {
   "cell_type": "markdown",
   "metadata": {},
   "source": [
    "## Number of Discharges Column"
   ]
  },
  {
   "cell_type": "code",
   "execution_count": 575,
   "metadata": {},
   "outputs": [
    {
     "data": {
      "text/plain": [
       "dtype('int32')"
      ]
     },
     "execution_count": 575,
     "metadata": {},
     "output_type": "execute_result"
    }
   ],
   "source": [
    "# deal with missing and inconvenient portions of data \n",
    "\n",
    "# remove rows of data where the number of discharges are not available\n",
    "hosp_data = hosp_data[hosp_data[NoD] != 'Not Available']\n",
    "\n",
    "# convert the number of discharges column into an integer data type\n",
    "hosp_data[NoD] = hosp_data[NoD].astype('int')\n",
    "\n",
    "# sort df by number of discharges\n",
    "hosp_data = hosp_data.sort_values(NoD)\n",
    "\n",
    "hosp_data[NoD].dtypes"
   ]
  },
  {
   "cell_type": "markdown",
   "metadata": {},
   "source": [
    "## Start & End Date Columns"
   ]
  },
  {
   "cell_type": "code",
   "execution_count": 576,
   "metadata": {},
   "outputs": [
    {
     "name": "stdout",
     "output_type": "stream",
     "text": [
      "All data STARTS on the same date: 07/01/2010\n",
      "All data ENDS on the same date: 06/30/2013\n"
     ]
    }
   ],
   "source": [
    "# analyze start and end date columns\n",
    "# if the data is a constant, store it in a variable, and delete the colum\n",
    "\n",
    "start_dates = hosp_data[SD].unique()\n",
    "end_dates = hosp_data[ED].unique()\n",
    "\n",
    "if(len(start_dates)==1):\n",
    "    start_date = start_dates[0]\n",
    "    print('All data STARTS on the same date:', start_date)\n",
    "    hosp_data = hosp_data.drop(['Start Date'], axis=1)\n",
    "    \n",
    "if(len(end_dates)==1):\n",
    "    end_date = end_dates[0]\n",
    "    print('All data ENDS on the same date:', end_date)\n",
    "    hosp_data = hosp_data.drop(['End Date'], axis=1)  "
   ]
  },
  {
   "cell_type": "markdown",
   "metadata": {},
   "source": [
    "***\n",
    "# Preliminary Look"
   ]
  },
  {
   "cell_type": "markdown",
   "metadata": {},
   "source": [
    "## Cleaned Data"
   ]
  },
  {
   "cell_type": "code",
   "execution_count": 577,
   "metadata": {},
   "outputs": [
    {
     "data": {
      "text/html": [
       "<div>\n",
       "<style scoped>\n",
       "    .dataframe tbody tr th:only-of-type {\n",
       "        vertical-align: middle;\n",
       "    }\n",
       "\n",
       "    .dataframe tbody tr th {\n",
       "        vertical-align: top;\n",
       "    }\n",
       "\n",
       "    .dataframe thead th {\n",
       "        text-align: right;\n",
       "    }\n",
       "</style>\n",
       "<table border=\"1\" class=\"dataframe\">\n",
       "  <thead>\n",
       "    <tr style=\"text-align: right;\">\n",
       "      <th></th>\n",
       "      <th>Hospital Name</th>\n",
       "      <th>Provider Number</th>\n",
       "      <th>State</th>\n",
       "      <th>Measure Name</th>\n",
       "      <th>Number of Discharges</th>\n",
       "      <th>Footnote</th>\n",
       "      <th>Excess Readmission Ratio</th>\n",
       "      <th>Predicted Readmission Rate</th>\n",
       "      <th>Expected Readmission Rate</th>\n",
       "      <th>Number of Readmissions</th>\n",
       "    </tr>\n",
       "  </thead>\n",
       "  <tbody>\n",
       "    <tr>\n",
       "      <th>16857</th>\n",
       "      <td>THREE RIVERS MEDICAL CENTER</td>\n",
       "      <td>180128</td>\n",
       "      <td>KY</td>\n",
       "      <td>READM-30-HIP-KNEE-HRRP</td>\n",
       "      <td>0</td>\n",
       "      <td>7</td>\n",
       "      <td>NaN</td>\n",
       "      <td>NaN</td>\n",
       "      <td>NaN</td>\n",
       "      <td>NaN</td>\n",
       "    </tr>\n",
       "    <tr>\n",
       "      <th>14582</th>\n",
       "      <td>SELLS INDIAN HEALTH SERVICE HOSPITAL</td>\n",
       "      <td>30074</td>\n",
       "      <td>AZ</td>\n",
       "      <td>READM-30-COPD-HRRP</td>\n",
       "      <td>0</td>\n",
       "      <td>7</td>\n",
       "      <td>NaN</td>\n",
       "      <td>NaN</td>\n",
       "      <td>NaN</td>\n",
       "      <td>NaN</td>\n",
       "    </tr>\n",
       "    <tr>\n",
       "      <th>15606</th>\n",
       "      <td>PHS INDIAN HOSPITAL AT PINE RIDGE</td>\n",
       "      <td>430081</td>\n",
       "      <td>SD</td>\n",
       "      <td>READM-30-AMI-HRRP</td>\n",
       "      <td>0</td>\n",
       "      <td>7</td>\n",
       "      <td>NaN</td>\n",
       "      <td>NaN</td>\n",
       "      <td>NaN</td>\n",
       "      <td>NaN</td>\n",
       "    </tr>\n",
       "    <tr>\n",
       "      <th>15615</th>\n",
       "      <td>FLORIDA STATE HOSPITAL UNIT 31 MED</td>\n",
       "      <td>100298</td>\n",
       "      <td>FL</td>\n",
       "      <td>READM-30-COPD-HRRP</td>\n",
       "      <td>0</td>\n",
       "      <td>7</td>\n",
       "      <td>NaN</td>\n",
       "      <td>NaN</td>\n",
       "      <td>NaN</td>\n",
       "      <td>NaN</td>\n",
       "    </tr>\n",
       "    <tr>\n",
       "      <th>14551</th>\n",
       "      <td>GREENE COUNTY HOSPITAL</td>\n",
       "      <td>10051</td>\n",
       "      <td>AL</td>\n",
       "      <td>READM-30-AMI-HRRP</td>\n",
       "      <td>0</td>\n",
       "      <td>7</td>\n",
       "      <td>NaN</td>\n",
       "      <td>NaN</td>\n",
       "      <td>NaN</td>\n",
       "      <td>NaN</td>\n",
       "    </tr>\n",
       "  </tbody>\n",
       "</table>\n",
       "</div>"
      ],
      "text/plain": [
       "                              Hospital Name  Provider Number State  \\\n",
       "16857           THREE RIVERS MEDICAL CENTER           180128    KY   \n",
       "14582  SELLS INDIAN HEALTH SERVICE HOSPITAL            30074    AZ   \n",
       "15606     PHS INDIAN HOSPITAL AT PINE RIDGE           430081    SD   \n",
       "15615    FLORIDA STATE HOSPITAL UNIT 31 MED           100298    FL   \n",
       "14551                GREENE COUNTY HOSPITAL            10051    AL   \n",
       "\n",
       "                 Measure Name  Number of Discharges Footnote  \\\n",
       "16857  READM-30-HIP-KNEE-HRRP                     0        7   \n",
       "14582      READM-30-COPD-HRRP                     0        7   \n",
       "15606       READM-30-AMI-HRRP                     0        7   \n",
       "15615      READM-30-COPD-HRRP                     0        7   \n",
       "14551       READM-30-AMI-HRRP                     0        7   \n",
       "\n",
       "       Excess Readmission Ratio  Predicted Readmission Rate  \\\n",
       "16857                       NaN                         NaN   \n",
       "14582                       NaN                         NaN   \n",
       "15606                       NaN                         NaN   \n",
       "15615                       NaN                         NaN   \n",
       "14551                       NaN                         NaN   \n",
       "\n",
       "       Expected Readmission Rate  Number of Readmissions  \n",
       "16857                        NaN                     NaN  \n",
       "14582                        NaN                     NaN  \n",
       "15606                        NaN                     NaN  \n",
       "15615                        NaN                     NaN  \n",
       "14551                        NaN                     NaN  "
      ]
     },
     "execution_count": 577,
     "metadata": {},
     "output_type": "execute_result"
    }
   ],
   "source": [
    "hosp_data.head()"
   ]
  },
  {
   "cell_type": "markdown",
   "metadata": {},
   "source": [
    "## Preliminary Analysis"
   ]
  },
  {
   "cell_type": "code",
   "execution_count": 578,
   "metadata": {},
   "outputs": [
    {
     "data": {
      "image/png": "[encoded data removed]",
      "text/plain": [
       "<Figure size 576x360 with 1 Axes>"
      ]
     },
     "metadata": {},
     "output_type": "display_data"
    }
   ],
   "source": [
    "# scatterplot for number of discharges vs. excess rate of readmissions\n",
    "\n",
    "# for number of discharges between (0 and 3000)\n",
    "hosp_data_plot = hosp_data.loc[(hosp_data[NoD] > 0) & (hosp_data[NoD] < 3000)]\n",
    "\n",
    "x = hosp_data_plot[NoD]\n",
    "y = hosp_data_plot[ExcRR]\n",
    "\n",
    "sns.set(rc={'figure.figsize':(8,5)})\n",
    "fig, ax = plt.subplots()\n",
    "\n",
    "sns.regplot(x, y, fit_reg=True, scatter_kws={'alpha':0.2})\n",
    "\n",
    "_ = ax.fill_between([0,350], 1.15, 2, facecolor='red', alpha = .25, interpolate=True)\n",
    "_ = ax.fill_between([800,2500], .5, .95, facecolor='green', alpha = .25, interpolate=True)\n",
    "\n",
    "_ = plt.xlim(0, 3000)\n",
    "_ = plt.ylim(0.5, 2.0)\n",
    "_ = plt.title('Excess Readmissions Ratio vs. Number of Discharges', fontsize=14)\n",
    "_ = fig.tight_layout()"
   ]
  },
  {
   "cell_type": "markdown",
   "metadata": {},
   "source": [
    "## Preliminary Report\n",
    "\n",
    "Read the following results/report. While you are reading it, think about if the conclusions are correct, incorrect, misleading or unfounded. Think about what you would change or what additional analyses you would perform.\n",
    "\n",
    "**A. Initial observations based on the plot above**\n",
    "+ Overall, rate of readmissions is trending down with increasing number of discharges\n",
    "+ With lower number of discharges, there is a greater incidence of excess rate of readmissions (area shaded red)\n",
    "+ With higher number of discharges, there is a greater incidence of lower rates of readmissions (area shaded green) \n",
    "\n",
    "**B. Statistics**\n",
    "+ In hospitals/facilities with number of discharges < 100, mean excess readmission rate is 1.023 and 63% have excess readmission rate greater than 1 \n",
    "+ In hospitals/facilities with number of discharges > 1000, mean excess readmission rate is 0.978 and 44% have excess readmission rate greater than 1 \n",
    "\n",
    "**C. Conclusions**\n",
    "+ There is a significant correlation between hospital capacity (number of discharges) and readmission rates. \n",
    "+ Smaller hospitals/facilities may be lacking necessary resources to ensure quality care and prevent complications that lead to readmissions.\n",
    "\n",
    "**D. Regulatory policy recommendations**\n",
    "+ Hospitals/facilties with small capacity (< 300) should be required to demonstrate upgraded resource allocation for quality care to continue operation.\n",
    "+ Directives and incentives should be provided for consolidation of hospitals and facilities to have a smaller number of them with higher capacity and number of discharges."
   ]
  },
  {
   "cell_type": "markdown",
   "metadata": {},
   "source": [
    "****\n",
    "# Exercise\n",
    "\n",
    "Include your work on the following **in this notebook and submit to your Github account**. \n",
    "\n",
    "A. Do you agree with the above analysis and recommendations? Why or why not?\n",
    "   \n",
    "B. Provide support for your arguments and your own recommendations with a statistically sound analysis:\n",
    "\n",
    "   1. Setup an appropriate hypothesis test.\n",
    "   2. Compute and report the observed significance value (or p-value).\n",
    "   3. Report statistical significance for $\\alpha$ = .01. \n",
    "   4. Discuss statistical significance and practical significance. Do they differ here? How does this change your recommendation to the client?\n",
    "   5. Look at the scatterplot above. \n",
    "      - What are the advantages and disadvantages of using this plot to convey information?\n",
    "      - Construct another plot that conveys the same information in a more direct manner.\n",
    "\n",
    "\n",
    "\n",
    "You can compose in notebook cells using Markdown: \n",
    "+ In the control panel at the top, choose Cell > Cell Type > Markdown\n",
    "+ Markdown syntax: http://nestacms.com/docs/creating-content/markdown-cheat-sheet\n",
    "****"
   ]
  },
  {
   "cell_type": "markdown",
   "metadata": {},
   "source": [
    "# A) Initial Plot Observations"
   ]
  },
  {
   "cell_type": "markdown",
   "metadata": {},
   "source": [
    "## Overall, rate of readmissions is trending down with increasing number of discharges?"
   ]
  },
  {
   "cell_type": "code",
   "execution_count": 579,
   "metadata": {},
   "outputs": [
    {
     "name": "stdout",
     "output_type": "stream",
     "text": [
      "y = -2.86e-05x + 1.02\n",
      "Slope: -2.86e-05\n",
      "Y-Intercept: 1.02\n",
      "r_sqaured: -0.0931\n",
      "p_value: 0.0000000000\n",
      "Standard Error: 0.0000028498\n"
     ]
    }
   ],
   "source": [
    "# linear regression\n",
    "\n",
    "slope, intercept, r_value, p_value, std_err = sc.stats.linregress(x, y)\n",
    "\n",
    "print('y = %.2ex + %0.2f' % (slope, intercept))\n",
    "print('Slope: %.2e' % slope)\n",
    "print('Y-Intercept: %0.2f' % intercept)\n",
    "print('r_sqaured: %.4f' % r_value)\n",
    "print('p_value: %.10f' % p_value)\n",
    "print('Standard Error: %.10f' % std_err)"
   ]
  },
  {
   "cell_type": "markdown",
   "metadata": {},
   "source": [
    "The slope technically negative, which means that the rate of readmissions is trending down with increasing number of discharges. But the slope is extremely small (close to zero) with an e-05. With a slope this close to zero, it could be estimated to be 0. Therefore there is no correlation between \"Excess Readmission Ratio\" and \"Number of Discharges\"."
   ]
  },
  {
   "cell_type": "markdown",
   "metadata": {},
   "source": [
    "## With lower number of discharges, there is a greater incidence of excess rate of readmissions? (Red Zone)"
   ]
  },
  {
   "cell_type": "code",
   "execution_count": 580,
   "metadata": {},
   "outputs": [
    {
     "name": "stdout",
     "output_type": "stream",
     "text": [
      "RED ZONE - When Number of Discharges is <= 350, the percent of hospitals with an Excess Readmission Rate > 1, is 53.3%\n",
      "NOT RED ZONE - When Number of Discharges is > 350, the percent of hospitals with an Excess Readmission Rate > 1, is 49.1%\n"
     ]
    }
   ],
   "source": [
    "# shaded red area is from x(0,350)\n",
    "\n",
    "red = hosp_data_plot[hosp_data_plot[NoD] <= 350]\n",
    "red_not = hosp_data_plot[hosp_data_plot[NoD] > 350]\n",
    "\n",
    "red_l = red[red[ExcRR] <  1].count()[ExcRR]\n",
    "red_e = red[red[ExcRR] == 1].count()[ExcRR]\n",
    "red_g = red[red[ExcRR] >  1].count()[ExcRR]\n",
    "red_t = len(red.index)\n",
    "red_a = red_g / red_t\n",
    "print('RED ZONE - When Number of Discharges is <= 350,\\\n",
    " the percent of hospitals with an Excess Readmission Rate > 1, is %.1f%%' % (red_a*100))\n",
    "\n",
    "red_not_l = red_not[red_not[ExcRR] <  1].count()[ExcRR]\n",
    "red_not_e = red_not[red_not[ExcRR] == 1].count()[ExcRR]\n",
    "red_not_g = red_not[red_not[ExcRR] >  1].count()[ExcRR]\n",
    "red_not_t = len(red_not.index)\n",
    "red_not_a = red_not_g / red_not_t\n",
    "print('NOT RED ZONE - When Number of Discharges is > 350,\\\n",
    " the percent of hospitals with an Excess Readmission Rate > 1, is %.1f%%' % (red_not_a*100))"
   ]
  },
  {
   "cell_type": "markdown",
   "metadata": {},
   "source": [
    "With lower number of discharges, there is a greater incidence of excess rate of readmissions.\n",
    "In the red zone, roughly 53% of the time, the Excess Readmission Rate is greater than 1.\n",
    "In the not red zone, roughly 49% of the time, the Excess Readmission Rate is greater than 1."
   ]
  },
  {
   "cell_type": "markdown",
   "metadata": {},
   "source": [
    "## With higher number of discharges, there is a greater incidence of lower rates of readmissions (Green Zone)"
   ]
  },
  {
   "cell_type": "code",
   "execution_count": 581,
   "metadata": {},
   "outputs": [
    {
     "name": "stdout",
     "output_type": "stream",
     "text": [
      "GREEN ZONE - When Number of Discharges is >= 800, the percent of hospitals with an Excess Readmission Rate > 1, is 52.6%\n",
      "NOT GREEN ZONE - When Number of Discharges is < 800, the percent of hospitals with an Excess Readmission Rate > 1, is 47.9%\n"
     ]
    }
   ],
   "source": [
    "green = hosp_data_plot[hosp_data_plot['Number of Discharges'] >= 800]\n",
    "green_not = hosp_data_plot[hosp_data_plot['Number of Discharges'] < 800]\n",
    "\n",
    "green_l = green[green[ExcRR] <  1].count()[ExcRR]\n",
    "green_e = green[green[ExcRR] == 1].count()[ExcRR]\n",
    "green_g = green[green[ExcRR] >  1].count()[ExcRR]\n",
    "green_t = len(green.index)\n",
    "green_b = green_l / green_t\n",
    "print('GREEN ZONE - When Number of Discharges is >= 800,\\\n",
    " the percent of hospitals with an Excess Readmission Rate > 1, is %.1f%%' % (green_b*100))\n",
    "\n",
    "green_not_l = green_not[green_not[ExcRR] <  1].count()[ExcRR]\n",
    "green_not_e = green_not[green_not[ExcRR] == 1].count()[ExcRR]\n",
    "green_not_g = green_not[green_not[ExcRR] >  1].count()[ExcRR]\n",
    "green_not_t = len(green_not.index)\n",
    "green_not_b = green_not_l / green_not_t\n",
    "print('NOT GREEN ZONE - When Number of Discharges is < 800,\\\n",
    " the percent of hospitals with an Excess Readmission Rate > 1, is %.1f%%' % (green_not_b*100))"
   ]
  },
  {
   "cell_type": "markdown",
   "metadata": {},
   "source": [
    "With higher number of discharges, there is a greater incidence of lower rates of readmissions.\n",
    "In the green zone, roughly 53% of the time, the Excess Readmission Rate is less than 1.\n",
    "In the not green zone, roughly 48% of the time, the Excess Readmission Rate is less than 1."
   ]
  },
  {
   "cell_type": "markdown",
   "metadata": {},
   "source": [
    "# B) Statistics"
   ]
  },
  {
   "cell_type": "markdown",
   "metadata": {},
   "source": [
    "* In hospitals/facilities with number of discharges < 100, mean excess readmission rate is 1.023 and 63% have excess readmission rate greater than 1\n",
    "* In hospitals/facilities with number of discharges > 1000, mean excess readmission rate is 0.978 and 44% have excess readmission rate greater than 1"
   ]
  },
  {
   "cell_type": "code",
   "execution_count": 582,
   "metadata": {},
   "outputs": [
    {
     "name": "stdout",
     "output_type": "stream",
     "text": [
      "Small: 1188 (10.3%)\n",
      "Medium: 9846 (85.7%)\n",
      "Large: 460 (4.0%)\n",
      "Total: 11494\n"
     ]
    }
   ],
   "source": [
    "small = hosp_data_plot[hosp_data_plot[NoD] < 100].shape[0]\n",
    "medium = hosp_data_plot[(hosp_data_plot[NoD] >= 100) & (hosp_data_plot[NoD] <= 1000)].shape[0]\n",
    "large = hosp_data_plot[hosp_data_plot[NoD] > 1000].shape[0]\n",
    "total = len(hosp_data_plot)\n",
    "\n",
    "print('Small: %d (%.1f%%)' % (small, 100*small/total))\n",
    "print('Medium: %d (%.1f%%)' % (medium, 100*medium/total))\n",
    "print('Large: %d (%.1f%%)' % (large, 100*large/total))\n",
    "print('Total: %d' % total)"
   ]
  },
  {
   "cell_type": "markdown",
   "metadata": {},
   "source": [
    "Dividing the data into categories of small, medium and large seems quite arbitrary. Are there already proven ways of making this distinction? And really, the report only reviews the Small and Large hospitals, so it leaves out quite a bit of the data (~85%)\n",
    "* Small < 100\n",
    "* Medium > 100 and < 1000\n",
    "* Large > 1000"
   ]
  },
  {
   "cell_type": "markdown",
   "metadata": {},
   "source": [
    "# C) Conclusions"
   ]
  },
  {
   "cell_type": "markdown",
   "metadata": {},
   "source": [
    "These are the conclusions that were reported. This section will try to affirm or deny these claims.\n",
    "* There is a significant correlation between hospital capacity (number of discharges) and readmission rates.\n",
    "* Smaller hospitals/facilities may be lacking necessary resources to ensure quality care and prevent complications that lead to readmissions."
   ]
  },
  {
   "cell_type": "markdown",
   "metadata": {},
   "source": [
    "## Significant Correlation between Number of Discharges and Excess Readmission Rates"
   ]
  },
  {
   "cell_type": "markdown",
   "metadata": {},
   "source": [
    "### 1) Hypothesis Test"
   ]
  },
  {
   "cell_type": "markdown",
   "metadata": {},
   "source": [
    "* Null Hypothesis (H0) = There is NOT a significant correlation between the Number of Discharges and Excess Readmission Rates\n",
    "* Alternative Hypothesis (Ha) = There is a significant correlation between the Number of Discharges and Excess Readmission Rates"
   ]
  },
  {
   "cell_type": "code",
   "execution_count": 583,
   "metadata": {},
   "outputs": [],
   "source": [
    "# The Statistical Significance/Level, alpha (α)\n",
    "alpha = 0.01"
   ]
  },
  {
   "cell_type": "markdown",
   "metadata": {},
   "source": [
    "There are three conditions in which the Central Limit Theorem can be applied.\n",
    "* Random - Random sample or randomized experiment\n",
    "* Normal - The sampling distribution needs to be approximately normal\n",
    "* Independent - Individual Observations need to be Independent"
   ]
  },
  {
   "cell_type": "markdown",
   "metadata": {},
   "source": [
    "#### Random\n",
    "All of the data is from Inpatient Prospective Payment System hospitals, but within that category seem to be random."
   ]
  },
  {
   "cell_type": "markdown",
   "metadata": {},
   "source": [
    "#### Normal\n",
    "* expected successes: np >= 10\n",
    "* AND\n",
    "* expected failures: n(1−p) >= 10"
   ]
  },
  {
   "cell_type": "code",
   "execution_count": 584,
   "metadata": {},
   "outputs": [
    {
     "name": "stdout",
     "output_type": "stream",
     "text": [
      "Expected Successes: 5938\n",
      "Expected Failures 5545\n",
      "Distribution is Normal\n"
     ]
    }
   ],
   "source": [
    "# expected successes and failures\n",
    "\n",
    "exp_succ = len(hosp_data_plot[hosp_data_plot[ExcRR] > 1].index)\n",
    "exp_fail = len(hosp_data_plot[hosp_data_plot[ExcRR] < 1].index)\n",
    "\n",
    "print('Expected Successes:', exp_succ)\n",
    "print('Expected Failures', exp_fail)\n",
    "\n",
    "if (exp_succ > 10 and exp_fail > 10):\n",
    "    print('Distribution is Normal')\n",
    "else:\n",
    "    print('Distribution is NOT Normal')"
   ]
  },
  {
   "cell_type": "markdown",
   "metadata": {},
   "source": [
    "#### Independent\n",
    "There may be some dependency depending upon if patients switch hospitals, but without knowing that information for certain, it will be assumed each hospital's data is independent of each other."
   ]
  },
  {
   "cell_type": "markdown",
   "metadata": {},
   "source": [
    "### 2) Pearson Correlation Coefficient and p-value\n",
    "\n",
    "Pearson Correlation Coefficient\n",
    "* It measures the linear relationship between two datasets. Strictly speaking, Pearson’s correlation requires that each dataset be normally distributed. Like other correlation coefficients, this one varies between -1 and +1 with 0 implying no correlation. Correlations of -1 or +1 imply an exact linear relationship. Positive correlations imply that as x increases, so does y. Negative correlations imply that as x increases, y decreases.\n",
    "\n",
    "p-value\n",
    "* It roughly indicates the probability of an uncorrelated system producing datasets that have a Pearson correlation at least as extreme as the one computed from these datasets. The p-values are not entirely reliable but are probably reasonable for datasets larger than 500 or so. It is a 2-tailed p-value."
   ]
  },
  {
   "cell_type": "code",
   "execution_count": 585,
   "metadata": {},
   "outputs": [
    {
     "name": "stdout",
     "output_type": "stream",
     "text": [
      "Pearson Correlation Coefficient: -0.09309554287590441\n",
      "p-value: 1.5022756426464526e-23\n"
     ]
    }
   ],
   "source": [
    "# generate the Pearson value and the p-value\n",
    "\n",
    "pearson_value, p_value = sc.stats.pearsonr(x, y)\n",
    "\n",
    "print('Pearson Correlation Coefficient:', pearson_value)\n",
    "print('p-value:', p_value)"
   ]
  },
  {
   "cell_type": "markdown",
   "metadata": {},
   "source": [
    "### 3) Statistical Significance"
   ]
  },
  {
   "cell_type": "code",
   "execution_count": 586,
   "metadata": {},
   "outputs": [
    {
     "name": "stdout",
     "output_type": "stream",
     "text": [
      "The p-value (1.50e-23) is less than alpha (0.01)\n",
      "Reject the Null Hypothesis (H0).\n",
      "There is a significant correlation between the Number of Discharges and Excess Readmission Rates\n"
     ]
    }
   ],
   "source": [
    "# check for statistical significance\n",
    "\n",
    "if p_value > alpha:\n",
    "    print('The p-value (%.2e) is greater than alpha (%0.2f)' % (p_value, alpha))\n",
    "    print('Failed to Reject the Null Hypothesis (H0).')\n",
    "    print('There is NOT a significant correlation between the Number of Discharges and Excess Readmission Rates')\n",
    "else:\n",
    "    print('The p-value (%.2e) is less than alpha (%0.2f)' % (p_value, alpha))\n",
    "    print('Reject the Null Hypothesis (H0).')\n",
    "    print('There is a significant correlation between the Number of Discharges and Excess Readmission Rates')"
   ]
  },
  {
   "cell_type": "markdown",
   "metadata": {},
   "source": [
    "# D) Review the Regulatory Policy Recommendations\n",
    "\n",
    "* Hospitals/facilties with small capacity (< 300) should be required to demonstrate upgraded resource allocation for quality care to continue operation.\n",
    "* Directives and incentives should be provided for consolidation of hospitals and facilities to have a smaller number of them with higher capacity and number of discharges"
   ]
  },
  {
   "cell_type": "markdown",
   "metadata": {},
   "source": [
    "### 4) Statistical Significance vs. Practical Significance"
   ]
  },
  {
   "cell_type": "markdown",
   "metadata": {},
   "source": [
    "Pearson Correlation Coefficient\n",
    "* The value (-0.093) is fairly close to zero indicating that there is some, but very little correlation.\n",
    "\n",
    "p-value\n",
    "* The value (e-23) is extremely close to zero indicating a very low likelyhood that the dataset could produce a correlation at least as extreme as (-0.09)."
   ]
  },
  {
   "cell_type": "markdown",
   "metadata": {},
   "source": [
    "So statistically speaking, there is significant correlation between the Excess Readmission Ratio (ExcRR) and the Number of Discharges (NoD). But practically speeaking, the correlation is extremely weak to actually base new regulations on this dataset and conclusions.\n",
    "\n",
    "Also, the statistics calculated by the report divided the hospitals into 3 groups separated by NoD = 100 and NoD = 1,000. But the Regulatory Policy Recommendation divides the hospitals into 2 groups separated by NoD = 300. So without dividing the hospitals by NoD = 300, I can't recommend to impletement that policy.\n",
    "\n",
    "Directives and incentives should NOT be provided. The free market can AND should handle these forces, not the government. The free market is the best way to respond to correlations like Number of Discharges and Excess Readmission Ratio. Competition will increase value and decrease costs to the consumers/patients."
   ]
  },
  {
   "cell_type": "markdown",
   "metadata": {},
   "source": [
    "### 5) Review the Scatter Plot\n"
   ]
  },
  {
   "cell_type": "markdown",
   "metadata": {},
   "source": [
    "#### Advantages\n",
    "Simplicity - This is the simplist type of plot to display the data and see if there is a correlation between 2 columns of data\n",
    "\n",
    "#### Disadvantages\n",
    "Cluttered - With many data points so close to each other, the data points turn into a blob that is hard to read and understand the density in that area, and therefore the corrleation."
   ]
  },
  {
   "cell_type": "code",
   "execution_count": 587,
   "metadata": {},
   "outputs": [
    {
     "data": {
      "text/html": [
       "<div>\n",
       "<style scoped>\n",
       "    .dataframe tbody tr th:only-of-type {\n",
       "        vertical-align: middle;\n",
       "    }\n",
       "\n",
       "    .dataframe tbody tr th {\n",
       "        vertical-align: top;\n",
       "    }\n",
       "\n",
       "    .dataframe thead th {\n",
       "        text-align: right;\n",
       "    }\n",
       "</style>\n",
       "<table border=\"1\" class=\"dataframe\">\n",
       "  <thead>\n",
       "    <tr style=\"text-align: right;\">\n",
       "      <th></th>\n",
       "      <th>Hospital Name</th>\n",
       "      <th>Provider Number</th>\n",
       "      <th>State</th>\n",
       "      <th>Measure Name</th>\n",
       "      <th>Number of Discharges</th>\n",
       "      <th>Footnote</th>\n",
       "      <th>Excess Readmission Ratio</th>\n",
       "      <th>Predicted Readmission Rate</th>\n",
       "      <th>Expected Readmission Rate</th>\n",
       "      <th>Number of Readmissions</th>\n",
       "    </tr>\n",
       "  </thead>\n",
       "  <tbody>\n",
       "    <tr>\n",
       "      <th>1832</th>\n",
       "      <td>UNIVERSITY OF MD CHARLES REGIONAL  MEDICAL CENTER</td>\n",
       "      <td>210035</td>\n",
       "      <td>MD</td>\n",
       "      <td>READM-30-AMI-HRRP</td>\n",
       "      <td>25</td>\n",
       "      <td></td>\n",
       "      <td>1.0914</td>\n",
       "      <td>26.8</td>\n",
       "      <td>24.6</td>\n",
       "      <td>12.0</td>\n",
       "    </tr>\n",
       "    <tr>\n",
       "      <th>1699</th>\n",
       "      <td>ATLANTIC GENERAL HOSPITAL</td>\n",
       "      <td>210061</td>\n",
       "      <td>MD</td>\n",
       "      <td>READM-30-AMI-HRRP</td>\n",
       "      <td>27</td>\n",
       "      <td></td>\n",
       "      <td>1.0961</td>\n",
       "      <td>24.8</td>\n",
       "      <td>22.6</td>\n",
       "      <td>12.0</td>\n",
       "    </tr>\n",
       "    <tr>\n",
       "      <th>1774</th>\n",
       "      <td>MERCY MEDICAL CENTER INC</td>\n",
       "      <td>210008</td>\n",
       "      <td>MD</td>\n",
       "      <td>READM-30-AMI-HRRP</td>\n",
       "      <td>28</td>\n",
       "      <td></td>\n",
       "      <td>1.0934</td>\n",
       "      <td>24.4</td>\n",
       "      <td>22.3</td>\n",
       "      <td>12.0</td>\n",
       "    </tr>\n",
       "    <tr>\n",
       "      <th>1853</th>\n",
       "      <td>KAISER FOUNDATION HOSPITAL-SANTA CLARA</td>\n",
       "      <td>50071</td>\n",
       "      <td>CA</td>\n",
       "      <td>READM-30-HF-HRRP</td>\n",
       "      <td>29</td>\n",
       "      <td></td>\n",
       "      <td>1.0908</td>\n",
       "      <td>21.0</td>\n",
       "      <td>19.3</td>\n",
       "      <td>11.0</td>\n",
       "    </tr>\n",
       "    <tr>\n",
       "      <th>1290</th>\n",
       "      <td>PALMERTON HOSPITAL</td>\n",
       "      <td>390019</td>\n",
       "      <td>PA</td>\n",
       "      <td>READM-30-AMI-HRRP</td>\n",
       "      <td>30</td>\n",
       "      <td></td>\n",
       "      <td>1.1123</td>\n",
       "      <td>23.2</td>\n",
       "      <td>20.9</td>\n",
       "      <td>13.0</td>\n",
       "    </tr>\n",
       "  </tbody>\n",
       "</table>\n",
       "</div>"
      ],
      "text/plain": [
       "                                          Hospital Name  Provider Number  \\\n",
       "1832  UNIVERSITY OF MD CHARLES REGIONAL  MEDICAL CENTER           210035   \n",
       "1699                          ATLANTIC GENERAL HOSPITAL           210061   \n",
       "1774                           MERCY MEDICAL CENTER INC           210008   \n",
       "1853             KAISER FOUNDATION HOSPITAL-SANTA CLARA            50071   \n",
       "1290                                 PALMERTON HOSPITAL           390019   \n",
       "\n",
       "     State       Measure Name  Number of Discharges Footnote  \\\n",
       "1832    MD  READM-30-AMI-HRRP                    25            \n",
       "1699    MD  READM-30-AMI-HRRP                    27            \n",
       "1774    MD  READM-30-AMI-HRRP                    28            \n",
       "1853    CA   READM-30-HF-HRRP                    29            \n",
       "1290    PA  READM-30-AMI-HRRP                    30            \n",
       "\n",
       "      Excess Readmission Ratio  Predicted Readmission Rate  \\\n",
       "1832                    1.0914                        26.8   \n",
       "1699                    1.0961                        24.8   \n",
       "1774                    1.0934                        24.4   \n",
       "1853                    1.0908                        21.0   \n",
       "1290                    1.1123                        23.2   \n",
       "\n",
       "      Expected Readmission Rate  Number of Readmissions  \n",
       "1832                       24.6                    12.0  \n",
       "1699                       22.6                    12.0  \n",
       "1774                       22.3                    12.0  \n",
       "1853                       19.3                    11.0  \n",
       "1290                       20.9                    13.0  "
      ]
     },
     "execution_count": 587,
     "metadata": {},
     "output_type": "execute_result"
    }
   ],
   "source": [
    "hosp_data_plot.head()"
   ]
  },
  {
   "cell_type": "markdown",
   "metadata": {},
   "source": [
    "#### Construct Another Plot\n",
    "Construct another plot that conveys the same information in a more direct manner"
   ]
  },
  {
   "cell_type": "code",
   "execution_count": 588,
   "metadata": {},
   "outputs": [
    {
     "name": "stderr",
     "output_type": "stream",
     "text": [
      "C:\\Users\\Miles\\Anaconda3\\lib\\site-packages\\matplotlib\\axes\\_axes.py:6462: UserWarning: The 'normed' kwarg is deprecated, and has been replaced by the 'density' kwarg.\n",
      "  warnings.warn(\"The 'normed' kwarg is deprecated, and has been \"\n",
      "C:\\Users\\Miles\\Anaconda3\\lib\\site-packages\\matplotlib\\axes\\_axes.py:6462: UserWarning: The 'normed' kwarg is deprecated, and has been replaced by the 'density' kwarg.\n",
      "  warnings.warn(\"The 'normed' kwarg is deprecated, and has been \"\n"
     ]
    },
    {
     "data": {
      "image/png": "[encoded data removed]",
      "text/plain": [
       "<Figure size 432x432 with 3 Axes>"
      ]
     },
     "metadata": {},
     "output_type": "display_data"
    }
   ],
   "source": [
    "sns.set()\n",
    "\n",
    "plot = sns.jointplot(x, y, \n",
    "                     kind='hex',\n",
    "                     xlim=(0,1000),\n",
    "                     ylim=(0.75,1.25))\n",
    "\n",
    "sns.regplot(x, y, ax=plot.ax_joint, scatter=False)\n",
    "\n",
    "_ = plt.title('Excess Readmissions Ratio vs. Number of Discharges', \n",
    "              fontsize=14,\n",
    "              loc='right',\n",
    "              pad=75)"
   ]
  }
 ],
 "metadata": {
  "anaconda-cloud": {},
  "kernelspec": {
   "display_name": "Python 3",
   "language": "python",
   "name": "python3"
  },
  "language_info": {
   "codemirror_mode": {
    "name": "ipython",
    "version": 3
   },
   "file_extension": ".py",
   "mimetype": "text/x-python",
   "name": "python",
   "nbconvert_exporter": "python",
   "pygments_lexer": "ipython3",
   "version": "3.6.5"
  }
 },
 "nbformat": 4,
 "nbformat_minor": 1
}
