{
 "cells": [
  {
   "cell_type": "markdown",
   "metadata": {},
   "source": [
    "# API Mini Project"
   ]
  },
  {
   "cell_type": "markdown",
   "metadata": {},
   "source": [
    "## Setup Qaundl Account"
   ]
  },
  {
   "cell_type": "markdown",
   "metadata": {},
   "source": [
    "This exercise will require you to pull some data from the Qunadl API. Qaundl is currently the most widely used aggregator of financial market data. As a first step, you will need to register a free account on http://www.quandl.com"
   ]
  },
  {
   "cell_type": "markdown",
   "metadata": {},
   "source": [
    "After you register, you will be provided with a unique API key, that you should store. Store the API key as a string - according to PEP8, constants are always named in all upper case. You’ll use your API key every time you want to access data products on Quandl. Each product has its own documentation tab complete with sample code and data details to help you get going quickly."
   ]
  },
  {
   "cell_type": "code",
   "execution_count": 40,
   "metadata": {},
   "outputs": [],
   "source": [
    "# Store the API key as a string - according to PEP8, constants are always named in all upper case\n",
    "API_KEY = '___'"
   ]
  },
  {
   "cell_type": "markdown",
   "metadata": {},
   "source": [
    "## Data Topic"
   ]
  },
  {
   "cell_type": "markdown",
   "metadata": {},
   "source": [
    "Qaundl has a large number of data sources, but, unfortunately, most of them require a Premium subscription. Still, there are also a good number of free datasets."
   ]
  },
  {
   "cell_type": "markdown",
   "metadata": {},
   "source": [
    "For this mini project, we will focus on equities data from the Frankfurt Stock Exhange (FSE), which is available for free. We'll try and analyze the stock prices of a company called Carl Zeiss Meditec, which manufactures tools for eye examinations, as well as medical lasers for laser eye surgery: https://www.zeiss.com/meditec/int/home.html. The company is listed under the stock ticker AFX_X. You can find the detailed Quandl API instructions here: https://docs.quandl.com/docs/time-series"
   ]
  },
  {
   "cell_type": "markdown",
   "metadata": {},
   "source": [
    "## Install Requests Package"
   ]
  },
  {
   "cell_type": "markdown",
   "metadata": {},
   "source": [
    "While there is a dedicated Python package for connecting to the Quandl API, we would prefer that you use the *requests* package, which can be easily downloaded using *pip* or *conda*. You can find the documentation for the package here: http://docs.python-requests.org/en/master/ "
   ]
  },
  {
   "cell_type": "markdown",
   "metadata": {},
   "source": [
    "## Python Standard Library"
   ]
  },
  {
   "cell_type": "markdown",
   "metadata": {},
   "source": [
    "Finally, apart from the *requests* package, you are encouraged to not use any third party Python packages, such as *pandas*, and instead focus on what's available in the Python Standard Library (the *collections* module might come in handy: https://pymotw.com/3/collections/).\n",
    "Also, since you won't have access to DataFrames, you are encouraged to us Python's native data structures - preferably dictionaries, though some questions can also be answered using lists.\n",
    "You can read more on these data structures here: https://docs.python.org/3/tutorial/datastructures.html"
   ]
  },
  {
   "cell_type": "markdown",
   "metadata": {},
   "source": [
    "## Note"
   ]
  },
  {
   "cell_type": "markdown",
   "metadata": {},
   "source": [
    "Keep in mind that the JSON responses you will be getting from the API map almost one-to-one to Python's dictionaries. Unfortunately, they can be very nested, so make sure you read up on indexing dictionaries in the documentation provided above."
   ]
  },
  {
   "cell_type": "markdown",
   "metadata": {},
   "source": [
    "## Sample Data"
   ]
  },
  {
   "cell_type": "code",
   "execution_count": 41,
   "metadata": {},
   "outputs": [],
   "source": [
    "# Import the relevant modules\n",
    "\n",
    "import requests\n",
    "import pprint # to print out the data in a readable formatted way"
   ]
  },
  {
   "cell_type": "code",
   "execution_count": 42,
   "metadata": {},
   "outputs": [
    {
     "name": "stdout",
     "output_type": "stream",
     "text": [
      "sample =  <class 'requests.models.Response'>\n",
      "sample.json() =  <class 'dict'>\n"
     ]
    }
   ],
   "source": [
    "# Call the Quandl API\n",
    "# Pull out a small sample of the data (only one day) into the JSON structure that will be returned\n",
    "\n",
    "dataset = 'FSE'\n",
    "stock_ticker = 'AFX_X'\n",
    "start_date = '2018-08-27'\n",
    "end_date = '2018-08-27'\n",
    "\n",
    "sample_url = ('https://www.quandl.com/api/v3/datasets/'\n",
    "              + dataset + '/' + stock_ticker\n",
    "              + '?start_date=' + start_date\n",
    "              + '&end_date=' + end_date\n",
    "              + '&api_key=' + API_KEY)\n",
    "sample = requests.get(sample_url)\n",
    "\n",
    "print('sample = ', type(sample))\n",
    "print('sample.json() = ', type(sample.json()))"
   ]
  },
  {
   "cell_type": "code",
   "execution_count": 43,
   "metadata": {},
   "outputs": [
    {
     "name": "stdout",
     "output_type": "stream",
     "text": [
      "{'dataset': {'id': 10095370, 'dataset_code': 'AFX_X', 'database_code': 'FSE', 'name': 'Carl Zeiss Meditec (AFX_X)', 'description': 'Stock Prices for Carl Zeiss Meditec (AFX) from the Frankfurt Stock Exchange.<br><br>Trading System: Xetra<br><br>ISIN: DE0005313704', 'refreshed_at': '2018-08-28T22:28:12.620Z', 'newest_available_date': '2018-08-28', 'oldest_available_date': '2000-06-07', 'column_names': ['Date', 'Open', 'High', 'Low', 'Close', 'Change', 'Traded Volume', 'Turnover', 'Last Price of the Day', 'Daily Traded Units', 'Daily Turnover'], 'frequency': 'daily', 'type': 'Time Series', 'premium': False, 'limit': None, 'transform': None, 'column_index': None, 'start_date': '2018-08-27', 'end_date': '2018-08-27', 'data': [['2018-08-27', None, 74.15, 72.6, 73.6, None, 168351.0, 12372154.0, None, None, None]], 'collapse': None, 'order': None, 'database_id': 6129}}\n",
      "**********\n",
      "{'dataset': {'collapse': None,\n",
      "             'column_index': None,\n",
      "             'column_names': ['Date',\n",
      "                              'Open',\n",
      "                              'High',\n",
      "                              'Low',\n",
      "                              'Close',\n",
      "                              'Change',\n",
      "                              'Traded Volume',\n",
      "                              'Turnover',\n",
      "                              'Last Price of the Day',\n",
      "                              'Daily Traded Units',\n",
      "                              'Daily Turnover'],\n",
      "             'data': [['2018-08-27',\n",
      "                       None,\n",
      "                       74.15,\n",
      "                       72.6,\n",
      "                       73.6,\n",
      "                       None,\n",
      "                       168351.0,\n",
      "                       12372154.0,\n",
      "                       None,\n",
      "                       None,\n",
      "                       None]],\n",
      "             'database_code': 'FSE',\n",
      "             'database_id': 6129,\n",
      "             'dataset_code': 'AFX_X',\n",
      "             'description': 'Stock Prices for Carl Zeiss Meditec (AFX) from '\n",
      "                            'the Frankfurt Stock Exchange.<br><br>Trading '\n",
      "                            'System: Xetra<br><br>ISIN: DE0005313704',\n",
      "             'end_date': '2018-08-27',\n",
      "             'frequency': 'daily',\n",
      "             'id': 10095370,\n",
      "             'limit': None,\n",
      "             'name': 'Carl Zeiss Meditec (AFX_X)',\n",
      "             'newest_available_date': '2018-08-28',\n",
      "             'oldest_available_date': '2000-06-07',\n",
      "             'order': None,\n",
      "             'premium': False,\n",
      "             'refreshed_at': '2018-08-28T22:28:12.620Z',\n",
      "             'start_date': '2018-08-27',\n",
      "             'transform': None,\n",
      "             'type': 'Time Series'}}\n"
     ]
    }
   ],
   "source": [
    "# Inspect the JSON file structure\n",
    "# Take note of the overall structure and how it is nested\n",
    "\n",
    "print(sample.json())\n",
    "print('**********')\n",
    "pp = pprint.PrettyPrinter(indent=1)\n",
    "pp.pprint(sample.json())"
   ]
  },
  {
   "cell_type": "markdown",
   "metadata": {},
   "source": [
    "## Tasks\n",
    "\n",
    "These are your tasks for this mini project:\n",
    "1. Collect data from the Franfurt Stock Exchange, for the ticker AFX_X, for the whole year 2017. Keep in mind that the date format is YYYY-MM-DD.\n",
    "2. Convert the returned JSON object into a Python dictionary.\n",
    "3. Calculate what the highest and lowest opening prices were for the stock in this period.\n",
    "4. What was the largest change in any one day (based on High and Low price)?\n",
    "5. What was the largest change between any two days (based on Closing Price)?\n",
    "6. What was the average daily trading volume during this year?\n",
    "7. (Optional) What was the median trading volume during this year. (Note: you may need to implement your own function for calculating the median.)"
   ]
  },
  {
   "cell_type": "markdown",
   "metadata": {
    "collapsed": true
   },
   "source": [
    "### Task 1\n",
    "Collect data from the Franfurt Stock Exchange, for the ticker AFX_X, for the whole year 2017. Keep in mind that the date format is YYYY-MM-DD."
   ]
  },
  {
   "cell_type": "code",
   "execution_count": 44,
   "metadata": {},
   "outputs": [
    {
     "name": "stdout",
     "output_type": "stream",
     "text": [
      "dataset_2017 data type =  <class 'requests.models.Response'>\n"
     ]
    }
   ],
   "source": [
    "# information to select the correct data from the source, Quandl\n",
    "dataset = 'FSE'\n",
    "stock_ticker = 'AFX_X'\n",
    "start_date = '2017-01-01'\n",
    "end_date = '2017-12-31'\n",
    "\n",
    "url = ('https://www.quandl.com/api/v3/datasets/'\n",
    "              + dataset + '/' + stock_ticker\n",
    "              + '?start_date=' + start_date\n",
    "              + '&end_date=' + end_date\n",
    "              + '&api_key=' + API_KEY)\n",
    "dataset_2017 = requests.get(url)\n",
    "\n",
    "print('dataset_2017 data type = ',type(dataset_2017))\n",
    "# pp.pprint(dataset_2017.json()) # printout 2017 dataset"
   ]
  },
  {
   "cell_type": "markdown",
   "metadata": {},
   "source": [
    "### Column Names\n",
    "Create a list of column names for the data."
   ]
  },
  {
   "cell_type": "code",
   "execution_count": 45,
   "metadata": {},
   "outputs": [
    {
     "name": "stdout",
     "output_type": "stream",
     "text": [
      "['Date', 'Open', 'High', 'Low', 'Close', 'Change', 'Traded Volume', 'Turnover', 'Last Price of the Day', 'Daily Traded Units', 'Daily Turnover']\n"
     ]
    }
   ],
   "source": [
    "# c_n = column names\n",
    "c_n = dataset_2017.json()['dataset']['column_names']\n",
    "print(c_n)"
   ]
  },
  {
   "cell_type": "markdown",
   "metadata": {},
   "source": [
    "### Task 2\n",
    "Convert the returned JSON object into a Python dictionary."
   ]
  },
  {
   "cell_type": "code",
   "execution_count": 46,
   "metadata": {},
   "outputs": [
    {
     "name": "stdout",
     "output_type": "stream",
     "text": [
      "dict_2017 data type =  <class 'dict'>\n"
     ]
    }
   ],
   "source": [
    "dict_2017 = dataset_2017.json()\n",
    "print('dict_2017 data type = ', type(dict_2017))"
   ]
  },
  {
   "cell_type": "markdown",
   "metadata": {},
   "source": [
    "### Task 3\n",
    "Calculate what the highest and lowest opening prices were for the stock in this period."
   ]
  },
  {
   "cell_type": "code",
   "execution_count": 47,
   "metadata": {},
   "outputs": [],
   "source": [
    "# extract the data from the nested dictionary\n",
    "all_data = dict_2017['dataset']['data'] "
   ]
  },
  {
   "cell_type": "code",
   "execution_count": 48,
   "metadata": {},
   "outputs": [
    {
     "name": "stdout",
     "output_type": "stream",
     "text": [
      "highest open price = $ 53.11\n",
      "lowest open price = $ 34.00\n"
     ]
    }
   ],
   "source": [
    "open_data = []\n",
    "for n in all_data:\n",
    "    open_val = n[c_n.index(\"Open\")] # for each date, extract the 'open' value\n",
    "    if isinstance(open_val, int) or isinstance(open_val, float): # test to see if the value is an integer or float\n",
    "        open_data.append(open_val) # add it to the 'open' list\n",
    "        \n",
    "highest_open = max(open_data)\n",
    "lowest_open = min(open_data)\n",
    "\n",
    "print('highest open price = $', \"%.2f\" % highest_open)\n",
    "print('lowest open price = $', \"%.2f\" % lowest_open)"
   ]
  },
  {
   "cell_type": "markdown",
   "metadata": {},
   "source": [
    "### Task 4\n",
    "What was the largest change in any one day? (based on High and Low price)"
   ]
  },
  {
   "cell_type": "code",
   "execution_count": 49,
   "metadata": {},
   "outputs": [
    {
     "name": "stdout",
     "output_type": "stream",
     "text": [
      "largest change in one day = $ 2.81\n"
     ]
    }
   ],
   "source": [
    "change_data_1 = []\n",
    "for n in all_data:\n",
    "    change_val = n[c_n.index(\"High\")] - n[c_n.index(\"Low\")] # for each date, subtract the 'high' from the 'low'\n",
    "    if isinstance(open_val, int) or isinstance(open_val, float): # test to see if the value is an integer or float\n",
    "        change_data_1.append(change_val) # add it to the 'change' list\n",
    "\n",
    "largest_day_change_1 = max(change_data_1)\n",
    "\n",
    "print('largest change in one day = $', \"%.2f\" % largest_day_change_1)"
   ]
  },
  {
   "cell_type": "markdown",
   "metadata": {},
   "source": [
    "### Task 5\n",
    "What was the largest change between any two days? (based on Closing Price)"
   ]
  },
  {
   "cell_type": "code",
   "execution_count": 50,
   "metadata": {},
   "outputs": [
    {
     "name": "stdout",
     "output_type": "stream",
     "text": [
      "largest change in two days = $ 2.56\n"
     ]
    }
   ],
   "source": [
    "close_data = []\n",
    "for n in all_data:\n",
    "    close_val = n[c_n.index(\"Close\")] # for each date, extract the 'close' value\n",
    "    close_data.append(close_val) # add it to the 'close' list\n",
    "\n",
    "change_data_2 = [x - close_data[i - 1] for i, x in enumerate(close_data)][1:] # subtract the previous value from each value\n",
    "\n",
    "largest_day_change_2 = max(change_data_2)\n",
    "\n",
    "print('largest change in two days = $', \"%.2f\" % largest_day_change_2)"
   ]
  },
  {
   "cell_type": "markdown",
   "metadata": {},
   "source": [
    "### Task 6\n",
    "What was the average daily trading volume during this year?"
   ]
  },
  {
   "cell_type": "code",
   "execution_count": 51,
   "metadata": {},
   "outputs": [
    {
     "name": "stdout",
     "output_type": "stream",
     "text": [
      "average daily trading volume =  89124\n"
     ]
    }
   ],
   "source": [
    "volume_data = []\n",
    "\n",
    "for n in all_data:\n",
    "    volume_val = n[c_n.index(\"Traded Volume\")] # for each date, extract the 'volume' value\n",
    "    volume_data.append(volume_val) # add it to the 'volume' list\n",
    "\n",
    "avg_daily_vol = sum(volume_data) / len(volume_data) # avg = sum / count\n",
    "\n",
    "print('average daily trading volume = ', \"%.0f\" % avg_daily_vol)"
   ]
  },
  {
   "cell_type": "markdown",
   "metadata": {},
   "source": [
    "### Task 7\n",
    "What was the median trading volume during this year. You may need to implement your own function for calculating the median."
   ]
  },
  {
   "cell_type": "code",
   "execution_count": 52,
   "metadata": {},
   "outputs": [
    {
     "name": "stdout",
     "output_type": "stream",
     "text": [
      "median trading volume =  76443\n"
     ]
    }
   ],
   "source": [
    "mid_num = len(volume_data) / 2 # calculate the len of the list & divide by 2 to find the middle index of the list\n",
    "\n",
    "if isinstance(mid_num, int): # if there are an even number of elements in the list\n",
    "    median_volume = sorted(volume_data)[mid_num]\n",
    "else: #  if there are an odd number of elements, the median is the mean of the two middle values\n",
    "    median_volume = (sorted(volume_data)[int(mid_num - 0.5)] + sorted(volume_data)[int(mid_num + 0.5)]) / 2\n",
    "\n",
    "print('median trading volume = ', \"%.0f\" % median_volume)"
   ]
  }
 ],
 "metadata": {
  "kernelspec": {
   "display_name": "Python 3",
   "language": "python",
   "name": "python3"
  },
  "language_info": {
   "codemirror_mode": {
    "name": "ipython",
    "version": 3
   },
   "file_extension": ".py",
   "mimetype": "text/x-python",
   "name": "python",
   "nbconvert_exporter": "python",
   "pygments_lexer": "ipython3",
   "version": "3.6.5"
  }
 },
 "nbformat": 4,
 "nbformat_minor": 2
}
